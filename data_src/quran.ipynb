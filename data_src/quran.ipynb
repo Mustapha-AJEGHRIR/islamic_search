{
 "cells": [
  {
   "cell_type": "code",
   "execution_count": 132,
   "metadata": {},
   "outputs": [
    {
     "data": {
      "text/plain": [
       "{'chapter': {'id': 11,\n",
       "  'revelation_place': 'makkah',\n",
       "  'revelation_order': 52,\n",
       "  'bismillah_pre': True,\n",
       "  'name_simple': 'Hud',\n",
       "  'name_complex': 'Hūd',\n",
       "  'name_arabic': 'هود',\n",
       "  'verses_count': 123,\n",
       "  'pages': [221, 235],\n",
       "  'chapter_number': 11,\n",
       "  'translated_name': {'language_name': 'english', 'name': 'Hud'}}}"
      ]
     },
     "execution_count": 132,
     "metadata": {},
     "output_type": "execute_result"
    }
   ],
   "source": [
    "import requests\n",
    "import numpy as np\n",
    "\n",
    "url = \"https://api.quran.com/api/v3/chapters/11\"\n",
    "data = requests.get(url).json()\n",
    "data"
   ]
  },
  {
   "cell_type": "code",
   "execution_count": 2,
   "metadata": {},
   "outputs": [
    {
     "data": {
      "text/plain": [
       "{'verse': {'id': 1475,\n",
       "  'verse_number': 2,\n",
       "  'chapter_id': 11,\n",
       "  'verse_key': '11:2',\n",
       "  'text_indopak': 'اَلَّا تَعۡبُدُوۡۤا اِلَّا اللّٰهَ\\u200b ؕ اِنَّنِىۡ لَـكُمۡ مِّنۡهُ نَذِيۡرٌ وَّبَشِيۡرٌ ۙ\\u200f',\n",
       "  'juz_number': 11,\n",
       "  'hizb_number': 22,\n",
       "  'rub_el_hizb_number': 88,\n",
       "  'sajdah_number': None,\n",
       "  'page_number': 221,\n",
       "  'sajdah': None,\n",
       "  'text_madani': 'أَلَّا تَعْبُدُوٓا۟ إِلَّا ٱللَّهَ ۚ إِنَّنِى لَكُم مِّنْهُ نَذِيرٌ وَبَشِيرٌ',\n",
       "  'words': [{'id': 1749,\n",
       "    'position': 1,\n",
       "    'text_indopak': 'اَلَّا',\n",
       "    'verse_key': '11:2',\n",
       "    'line_number': 10,\n",
       "    'page_number': 221,\n",
       "    'code': '&#xfba0;',\n",
       "    'class_name': 'p221',\n",
       "    'text_madani': 'أَلَّا',\n",
       "    'char_type': 'word',\n",
       "    'transliteration': {'text': 'allā', 'language_name': 'english'},\n",
       "    'translation': {'language_name': 'english', 'text': 'That \"Not'},\n",
       "    'audio': {'url': 'wbw/011_002_001.mp3'}},\n",
       "   {'id': 1750,\n",
       "    'position': 2,\n",
       "    'text_indopak': 'تَعۡبُدُوۡۤا',\n",
       "    'verse_key': '11:2',\n",
       "    'line_number': 10,\n",
       "    'page_number': 221,\n",
       "    'code': '&#xfba1;',\n",
       "    'class_name': 'p221',\n",
       "    'text_madani': 'تَعْبُدُوٓا۟',\n",
       "    'char_type': 'word',\n",
       "    'transliteration': {'text': 'taʿbudū', 'language_name': 'english'},\n",
       "    'translation': {'language_name': 'english', 'text': 'you worship'},\n",
       "    'audio': {'url': 'wbw/011_002_002.mp3'}},\n",
       "   {'id': 1751,\n",
       "    'position': 3,\n",
       "    'text_indopak': 'اِلَّا',\n",
       "    'verse_key': '11:2',\n",
       "    'line_number': 10,\n",
       "    'page_number': 221,\n",
       "    'code': '&#xfba2;',\n",
       "    'class_name': 'p221',\n",
       "    'text_madani': 'إِلَّا',\n",
       "    'char_type': 'word',\n",
       "    'transliteration': {'text': 'illā', 'language_name': 'english'},\n",
       "    'translation': {'language_name': 'english', 'text': 'but'},\n",
       "    'audio': {'url': 'wbw/011_002_003.mp3'}},\n",
       "   {'id': 1752,\n",
       "    'position': 4,\n",
       "    'text_indopak': 'اللّٰهَ\\u200b ؕ',\n",
       "    'verse_key': '11:2',\n",
       "    'line_number': 10,\n",
       "    'page_number': 221,\n",
       "    'code': '&#xfba3;',\n",
       "    'class_name': 'p221',\n",
       "    'text_madani': 'ٱللَّهَ ۚ',\n",
       "    'char_type': 'word',\n",
       "    'transliteration': {'text': 'l-laha', 'language_name': 'english'},\n",
       "    'translation': {'language_name': 'english', 'text': 'Allah'},\n",
       "    'audio': {'url': 'wbw/011_002_004.mp3'}},\n",
       "   {'id': 1754,\n",
       "    'position': 5,\n",
       "    'text_indopak': 'اِنَّنِىۡ',\n",
       "    'verse_key': '11:2',\n",
       "    'line_number': 10,\n",
       "    'page_number': 221,\n",
       "    'code': '&#xfba5;',\n",
       "    'class_name': 'p221',\n",
       "    'text_madani': 'إِنَّنِى',\n",
       "    'char_type': 'word',\n",
       "    'transliteration': {'text': 'innanī', 'language_name': 'english'},\n",
       "    'translation': {'language_name': 'english', 'text': 'Indeed, I am'},\n",
       "    'audio': {'url': 'wbw/011_002_006.mp3'}},\n",
       "   {'id': 1755,\n",
       "    'position': 6,\n",
       "    'text_indopak': 'لَـكُمۡ',\n",
       "    'verse_key': '11:2',\n",
       "    'line_number': 10,\n",
       "    'page_number': 221,\n",
       "    'code': '&#xfba6;',\n",
       "    'class_name': 'p221',\n",
       "    'text_madani': 'لَكُم',\n",
       "    'char_type': 'word',\n",
       "    'transliteration': {'text': 'lakum', 'language_name': 'english'},\n",
       "    'translation': {'language_name': 'english', 'text': 'to you'},\n",
       "    'audio': {'url': 'wbw/011_002_007.mp3'}},\n",
       "   {'id': 1756,\n",
       "    'position': 7,\n",
       "    'text_indopak': 'مِّنۡهُ',\n",
       "    'verse_key': '11:2',\n",
       "    'line_number': 10,\n",
       "    'page_number': 221,\n",
       "    'code': '&#xfba7;',\n",
       "    'class_name': 'p221',\n",
       "    'text_madani': 'مِّنْهُ',\n",
       "    'char_type': 'word',\n",
       "    'transliteration': {'text': \"min'hu\", 'language_name': 'english'},\n",
       "    'translation': {'language_name': 'english', 'text': 'from Him'},\n",
       "    'audio': {'url': 'wbw/011_002_008.mp3'}},\n",
       "   {'id': 1757,\n",
       "    'position': 8,\n",
       "    'text_indopak': 'نَذِيۡرٌ',\n",
       "    'verse_key': '11:2',\n",
       "    'line_number': 10,\n",
       "    'page_number': 221,\n",
       "    'code': '&#xfba8;',\n",
       "    'class_name': 'p221',\n",
       "    'text_madani': 'نَذِيرٌۭ',\n",
       "    'char_type': 'word',\n",
       "    'transliteration': {'text': 'nadhīrun', 'language_name': 'english'},\n",
       "    'translation': {'language_name': 'english', 'text': 'a warner'},\n",
       "    'audio': {'url': 'wbw/011_002_009.mp3'}},\n",
       "   {'id': 1758,\n",
       "    'position': 9,\n",
       "    'text_indopak': 'وَّبَشِيۡرٌ ۙ\\u200f',\n",
       "    'verse_key': '11:2',\n",
       "    'line_number': 10,\n",
       "    'page_number': 221,\n",
       "    'code': '&#xfba9;',\n",
       "    'class_name': 'p221',\n",
       "    'text_madani': 'وَبَشِيرٌۭ',\n",
       "    'char_type': 'word',\n",
       "    'transliteration': {'text': 'wabashīrun', 'language_name': 'english'},\n",
       "    'translation': {'language_name': 'english',\n",
       "     'text': 'and a bearer of glad tidings'},\n",
       "    'audio': {'url': 'wbw/011_002_010.mp3'}},\n",
       "   {'id': 1759,\n",
       "    'position': 10,\n",
       "    'text_indopak': '٢',\n",
       "    'verse_key': '11:2',\n",
       "    'line_number': 10,\n",
       "    'page_number': 221,\n",
       "    'code': '&#xfbaa;',\n",
       "    'class_name': 'p221',\n",
       "    'text_madani': '٢',\n",
       "    'char_type': 'end',\n",
       "    'transliteration': {'text': None, 'language_name': 'english'},\n",
       "    'translation': {'language_name': 'english', 'text': '(2)'},\n",
       "    'audio': {'url': None}}]}}"
      ]
     },
     "execution_count": 2,
     "metadata": {},
     "output_type": "execute_result"
    }
   ],
   "source": [
    "url = \"https://api.quran.com/api/v3/chapters/11/verses/11:2\"\n",
    "data = requests.get(url).json()\n",
    "data"
   ]
  },
  {
   "cell_type": "markdown",
   "metadata": {},
   "source": [
    "## Using version 3"
   ]
  },
  {
   "cell_type": "code",
   "execution_count": 3,
   "metadata": {},
   "outputs": [],
   "source": [
    "# class verse():\n",
    "#     def __init__(self, chapter, verse, base_url=\"https://api.quran.com/api/v3/chapters/\"):\n",
    "#         # -------------------------------- Definitions ------------------------------- #\n",
    "#         self.chapter = chapter\n",
    "#         self.verse = verse\n",
    "#         self.base_url = base_url\n",
    "#         self.url = self.base_url + \"{}/verses/{}:{}\".format(chapter, chapter, verse)\n",
    "#         # ------------------------------- Download data ------------------------------ #\n",
    "#         self.download()\n",
    "#         # ------------------------------ important data ------------------------------ #\n",
    "#         self.text = self.data[\"verse\"][\"text_madani\"]\n",
    "#         self.verse_id = self.data[\"verse\"][\"id\"]\n",
    "        \n",
    "#     def download(self):\n",
    "        # resp = requests.get(self.url)\n",
    "        # assert resp.status_code == 200, \"Status != 200 when downloading from {}, found status {}\".format(self.url, resp.status_code)\n",
    "        # self.data = resp.json()"
   ]
  },
  {
   "cell_type": "code",
   "execution_count": 4,
   "metadata": {},
   "outputs": [],
   "source": [
    "# verse(11, 2).verse"
   ]
  },
  {
   "cell_type": "code",
   "execution_count": 5,
   "metadata": {},
   "outputs": [],
   "source": [
    "# QURAN_CHAPTERS = 114\n",
    "\n",
    "# class Quran():\n",
    "#     def __init__(self,\n",
    "#                 base_link = \"https://api.quran.com/api/v3/chapters/\"):\n",
    "#         self.base_link = base_link\n",
    "#         self.chapters = []\n",
    "            \n",
    "#     def download(self):"
   ]
  },
  {
   "cell_type": "markdown",
   "metadata": {},
   "source": [
    "## Using Version 4"
   ]
  },
  {
   "cell_type": "code",
   "execution_count": 6,
   "metadata": {},
   "outputs": [],
   "source": [
    "import asyncio\n",
    "import aiohttp\n",
    "import time\n",
    "import json\n",
    "import requests\n",
    "from tqdm import tqdm\n",
    "\n",
    "def get_tafsir(tafsir_id, key):\n",
    "    \"\"\"\n",
    "    description: key could be verse key or a verse id\n",
    "    \"\"\"\n",
    "    url = \"https://api.quran.com/api/v4/tafsirs/{}/by_ayah/{}\".format(tafsir_id, key)\n",
    "    resp = requests.get(url)\n",
    "    assert resp.status_code == 200, \"Status != 200 when downloading from {}, found status {}\".format(url, resp.status_code)\n",
    "    return resp.json()\n",
    "\n",
    "def get_all_tafsirs_info():\n",
    "    url = \"https://api.quran.com/api/v4/resources/tafsirs\"\n",
    "    resp = requests.get(url)\n",
    "    assert resp.status_code == 200, \"Status != 200 when downloading from {}, found status {}\".format(url, resp.status_code)\n",
    "    return resp.json()[\"tafsirs\"]\n",
    "\n",
    "def get_quran(text_type=\"imlaei\"):\n",
    "    url = \"https://api.quran.com/api/v4/quran/verses/{}\".format(text_type)\n",
    "    resp = requests.get(url)\n",
    "    assert resp.status_code == 200, \"Status != 200 when downloading from {}, found status {}\".format(url, resp.status_code)\n",
    "    return resp.json()[\"verses\"]\n",
    "\n",
    "\n",
    "async def get(url, session):\n",
    "    try:\n",
    "        async with session.get(url=url) as response:\n",
    "            resp = await response.read()\n",
    "            return resp\n",
    "    except Exception as e:\n",
    "        print(\"Unable to get url {} due to {}.\".format(url, e.__class__))\n",
    "\n",
    "\n",
    "async def get_tafsirs(tafsir_id, keys, tafsirs):\n",
    "    # -------------------------------- build urls -------------------------------- #\n",
    "    urls = []\n",
    "    for key in keys:\n",
    "        url = \"https://api.quran.com/api/v4/tafsirs/{}/by_ayah/{}\".format(tafsir_id, key)\n",
    "        urls.append(url)\n",
    "    # --------------------------------- get urls --------------------------------- #\n",
    "    async with aiohttp.ClientSession() as session:\n",
    "        responses = await asyncio.gather(*[get(url, session) for url in urls])\n",
    "        # tafsirs = []\n",
    "        for resp in tqdm(responses, \"creating jsons from reqponses for {}\".format(tafsir_id)):\n",
    "            try:\n",
    "                json_resp = json.loads(resp)\n",
    "            except:\n",
    "                print(resp)\n",
    "                json_resp = json.loads(resp)\n",
    "            tafsirs.append(json_resp[\"tafsir\"])\n",
    "        # print(tafsirs)"
   ]
  },
  {
   "cell_type": "code",
   "execution_count": 7,
   "metadata": {},
   "outputs": [
    {
     "data": {
      "text/plain": [
       "{'tafsir': {'verses': {'53:37': {'id': 4821}},\n",
       "  'resource_id': 92,\n",
       "  'resource_name': 'Arabic Tanweer Tafseer',\n",
       "  'language_id': 9,\n",
       "  'slug': 'ar-tafseer-tanwir-al-miqbas',\n",
       "  'translated_name': {'name': 'Tafseer Tanwir al-Miqbas',\n",
       "   'language_name': 'english'},\n",
       "  'text': 'وَإِبْرَاهِيمَ الَّذِي وَفَّى (37('}}"
      ]
     },
     "execution_count": 7,
     "metadata": {},
     "output_type": "execute_result"
    }
   ],
   "source": [
    "get_tafsir(92,4821)"
   ]
  },
  {
   "cell_type": "code",
   "execution_count": 8,
   "metadata": {},
   "outputs": [],
   "source": [
    "QURAN_CHAPTERS = 114\n",
    "\n",
    "class Quran():\n",
    "    def __init__(self,\n",
    "                tafsirs_getter = get_tafsirs,\n",
    "                all_tafsirs_getter = get_all_tafsirs_info,\n",
    "                quran_getter = get_quran,\n",
    "                language = \"arabic\"\n",
    "                ):\n",
    "        self.tafsirs_getter     = tafsirs_getter\n",
    "        self.quran_getter       = quran_getter\n",
    "        self.all_tafsirs_getter = all_tafsirs_getter\n",
    "        self.language           = language\n",
    "        # self.download()\n",
    "                    \n",
    "    async def download(self):\n",
    "        # ------------------------- Get quran and tafsir list ------------------------ #\n",
    "        self.quran = self.quran_getter()\n",
    "        self.all_tafsirs = self.all_tafsirs_getter()\n",
    "        \n",
    "        \n",
    "        # ------------------ Only get tafsirs of language 'language' ----------------- #\n",
    "        tafsir_ids = []\n",
    "        for tafsir in self.all_tafsirs :\n",
    "            if tafsir[\"language_name\"] == self.language:\n",
    "                tafsir_ids.append(tafsir[\"id\"])\n",
    "        # --------------------------------- vers keys -------------------------------- #\n",
    "        keys = []\n",
    "        for verse in self.quran:\n",
    "            keys.append(verse[\"id\"])\n",
    "        # --------------------------- download the tafsirs -------------------------- #\n",
    "        for verse in self.quran: # just build the list that will contain the tafsirs\n",
    "            verse[\"tafsirs\"] = []\n",
    "        for tafsir_id in tafsir_ids:\n",
    "            tafsirs = []\n",
    "            await self.tafsirs_getter(tafsir_id, keys, tafsirs)\n",
    "            self.tafsirs = tafsirs\n",
    "            for verse, tafsir in zip(self.quran, self.tafsirs):\n",
    "                verse[\"tafsirs\"].append(tafsir)\n",
    "    \n",
    "        # for verse in self.quran:\n",
    "        #     verse_id = verse[\"id\"]\n",
    "        #     for tafsir_id in tafsir_ids:\n",
    "        #         tafsir = self.tafsir_getter(tafsir_id, verse_id)\n",
    "        #         verse[\"tafsirs\"].append(tafsir)\n",
    "            "
   ]
  },
  {
   "cell_type": "code",
   "execution_count": 31,
   "metadata": {},
   "outputs": [
    {
     "name": "stderr",
     "output_type": "stream",
     "text": [
      "creating jsons from reqponses for 14: 100%|██████████| 6236/6236 [00:00<00:00, 77044.94it/s]\n",
      "creating jsons from reqponses for 16: 100%|██████████| 6236/6236 [00:00<00:00, 145911.62it/s]\n",
      "creating jsons from reqponses for 92: 100%|██████████| 6236/6236 [00:00<00:00, 55481.11it/s]\n",
      "creating jsons from reqponses for 93: 100%|██████████| 6236/6236 [00:00<00:00, 69282.16it/s]\n",
      "creating jsons from reqponses for 15: 100%|██████████| 6236/6236 [00:00<00:00, 44550.03it/s]\n",
      "creating jsons from reqponses for 90: 100%|██████████| 6236/6236 [00:00<00:00, 68638.19it/s]\n",
      "creating jsons from reqponses for 91: 100%|██████████| 6236/6236 [00:00<00:00, 112015.28it/s]\n",
      "creating jsons from reqponses for 94: 100%|██████████| 6236/6236 [00:00<00:00, 94468.49it/s]\n"
     ]
    }
   ],
   "source": [
    "quran = Quran()\n",
    "await quran.download()"
   ]
  },
  {
   "cell_type": "code",
   "execution_count": 26,
   "metadata": {},
   "outputs": [],
   "source": [
    "#save the json file in the data folder\n",
    "import json\n",
    "with open(\"../data/quran_tafsirs.json\", \"w\") as f:\n",
    "    json.dump(quran.quran, f)"
   ]
  },
  {
   "cell_type": "code",
   "execution_count": 9,
   "metadata": {},
   "outputs": [],
   "source": [
    "import json\n",
    "with open(\"../data/quran_tafsirs.json\", \"r\") as f:\n",
    "    q = json.load(f)"
   ]
  },
  {
   "cell_type": "markdown",
   "metadata": {},
   "source": [
    "Test if all the tafsirs go to the right verse"
   ]
  },
  {
   "cell_type": "code",
   "execution_count": 10,
   "metadata": {},
   "outputs": [
    {
     "data": {
      "text/plain": [
       "1"
      ]
     },
     "execution_count": 10,
     "metadata": {},
     "output_type": "execute_result"
    }
   ],
   "source": [
    "q[0][\"tafsirs\"][0][\"verses\"][\"1:1\"][\"id\"]"
   ]
  },
  {
   "cell_type": "code",
   "execution_count": 43,
   "metadata": {},
   "outputs": [
    {
     "ename": "AssertionError",
     "evalue": "key 2:59 not in tafsir {'2:49': {'id': 56}, '2:50': {'id': 57}, '2:51': {'id': 58}, '2:52': {'id': 59}, '2:53': {'id': 60}, '2:54': {'id': 61}, '2:55': {'id': 62}, '2:56': {'id': 63}, '2:57': {'id': 64}, '2:58': {'id': 65}}, for tafsir 92",
     "output_type": "error",
     "traceback": [
      "\u001b[0;31m---------------------------------------------------------------------------\u001b[0m",
      "\u001b[0;31mAssertionError\u001b[0m                            Traceback (most recent call last)",
      "\u001b[1;32m/mnt/c/Users/Mustapha/Documents/Projects/islamic_search/data_src/quran.ipynb Cell 16'\u001b[0m in \u001b[0;36m<cell line: 1>\u001b[0;34m()\u001b[0m\n\u001b[1;32m      <a href='vscode-notebook-cell://wsl%2Bubuntu/mnt/c/Users/Mustapha/Documents/Projects/islamic_search/data_src/quran.ipynb#ch0000013vscode-remote?line=2'>3</a>\u001b[0m     key \u001b[39m=\u001b[39m verse[\u001b[39m\"\u001b[39m\u001b[39mverse_key\u001b[39m\u001b[39m\"\u001b[39m]\n\u001b[1;32m      <a href='vscode-notebook-cell://wsl%2Bubuntu/mnt/c/Users/Mustapha/Documents/Projects/islamic_search/data_src/quran.ipynb#ch0000013vscode-remote?line=3'>4</a>\u001b[0m     \u001b[39mfor\u001b[39;00m tafsir \u001b[39min\u001b[39;00m verse[\u001b[39m\"\u001b[39m\u001b[39mtafsirs\u001b[39m\u001b[39m\"\u001b[39m]:\n\u001b[0;32m----> <a href='vscode-notebook-cell://wsl%2Bubuntu/mnt/c/Users/Mustapha/Documents/Projects/islamic_search/data_src/quran.ipynb#ch0000013vscode-remote?line=4'>5</a>\u001b[0m         \u001b[39massert\u001b[39;00m key \u001b[39min\u001b[39;00m tafsir[\u001b[39m\"\u001b[39m\u001b[39mverses\u001b[39m\u001b[39m\"\u001b[39m], \u001b[39m\"\u001b[39m\u001b[39mkey \u001b[39m\u001b[39m{}\u001b[39;00m\u001b[39m not in tafsir \u001b[39m\u001b[39m{}\u001b[39;00m\u001b[39m, for tafsir \u001b[39m\u001b[39m{}\u001b[39;00m\u001b[39m\"\u001b[39m\u001b[39m.\u001b[39mformat(key, tafsir[\u001b[39m\"\u001b[39m\u001b[39mverses\u001b[39m\u001b[39m\"\u001b[39m], tafsir[\u001b[39m\"\u001b[39m\u001b[39mresource_id\u001b[39m\u001b[39m\"\u001b[39m])\n\u001b[1;32m      <a href='vscode-notebook-cell://wsl%2Bubuntu/mnt/c/Users/Mustapha/Documents/Projects/islamic_search/data_src/quran.ipynb#ch0000013vscode-remote?line=5'>6</a>\u001b[0m         \u001b[39massert\u001b[39;00m \u001b[39mid\u001b[39m \u001b[39m==\u001b[39m tafsir[\u001b[39m\"\u001b[39m\u001b[39mverses\u001b[39m\u001b[39m\"\u001b[39m][key][\u001b[39m\"\u001b[39m\u001b[39mid\u001b[39m\u001b[39m\"\u001b[39m], \u001b[39m\"\u001b[39m\u001b[39mverse id \u001b[39m\u001b[39m{}\u001b[39;00m\u001b[39m != tafsir id \u001b[39m\u001b[39m{}\u001b[39;00m\u001b[39m for tafsir \u001b[39m\u001b[39m{}\u001b[39;00m\u001b[39m\"\u001b[39m\u001b[39m.\u001b[39mformat(\u001b[39mid\u001b[39m, tafsir[\u001b[39m\"\u001b[39m\u001b[39mverses\u001b[39m\u001b[39m\"\u001b[39m][key][\u001b[39m\"\u001b[39m\u001b[39mid\u001b[39m\u001b[39m\"\u001b[39m], tafsir[\u001b[39m\"\u001b[39m\u001b[39mresource_id\u001b[39m\u001b[39m\"\u001b[39m])\n\u001b[1;32m      <a href='vscode-notebook-cell://wsl%2Bubuntu/mnt/c/Users/Mustapha/Documents/Projects/islamic_search/data_src/quran.ipynb#ch0000013vscode-remote?line=7'>8</a>\u001b[0m \u001b[39mprint\u001b[39m(\u001b[39m\"\u001b[39m\u001b[39mAll done\u001b[39m\u001b[39m\"\u001b[39m)\n",
      "\u001b[0;31mAssertionError\u001b[0m: key 2:59 not in tafsir {'2:49': {'id': 56}, '2:50': {'id': 57}, '2:51': {'id': 58}, '2:52': {'id': 59}, '2:53': {'id': 60}, '2:54': {'id': 61}, '2:55': {'id': 62}, '2:56': {'id': 63}, '2:57': {'id': 64}, '2:58': {'id': 65}}, for tafsir 92"
     ]
    }
   ],
   "source": [
    "for verse in q:\n",
    "    id = verse[\"id\"]\n",
    "    key = verse[\"verse_key\"]\n",
    "    for tafsir in verse[\"tafsirs\"]:\n",
    "        assert key in tafsir[\"verses\"], \"key {} not in tafsir {}, for tafsir {}\".format(key, tafsir[\"verses\"], tafsir[\"resource_id\"])\n",
    "        assert id == tafsir[\"verses\"][key][\"id\"], \"verse id {} != tafsir id {} for tafsir {}\".format(id, tafsir[\"verses\"][key][\"id\"], tafsir[\"resource_id\"])\n",
    "\n",
    "print(\"All done\")"
   ]
  },
  {
   "cell_type": "markdown",
   "metadata": {},
   "source": [
    "verses ids are correctly ordered ?"
   ]
  },
  {
   "cell_type": "code",
   "execution_count": 11,
   "metadata": {},
   "outputs": [],
   "source": [
    "for i,verse in enumerate(q) :\n",
    "    assert i + 1 == verse[\"id\"], \"verse id {} != {}\".format(i, verse[\"id\"])"
   ]
  },
  {
   "cell_type": "code",
   "execution_count": 12,
   "metadata": {},
   "outputs": [
    {
     "data": {
      "text/plain": [
       "8"
      ]
     },
     "execution_count": 12,
     "metadata": {},
     "output_type": "execute_result"
    }
   ],
   "source": [
    "len(q[0][\"tafsirs\"])"
   ]
  },
  {
   "cell_type": "markdown",
   "metadata": {},
   "source": [
    "## Build continuous text"
   ]
  },
  {
   "cell_type": "code",
   "execution_count": 13,
   "metadata": {},
   "outputs": [],
   "source": [
    "full_text = \"\"\n",
    "for verse in q :\n",
    "    for tafsir in verse[\"tafsirs\"]:\n",
    "        full_text += tafsir[\"text\"]"
   ]
  },
  {
   "cell_type": "code",
   "execution_count": 18,
   "metadata": {},
   "outputs": [
    {
     "data": {
      "text/plain": [
       "74355991"
      ]
     },
     "execution_count": 18,
     "metadata": {},
     "output_type": "execute_result"
    }
   ],
   "source": [
    "len(full_text)"
   ]
  },
  {
   "cell_type": "code",
   "execution_count": 17,
   "metadata": {},
   "outputs": [
    {
     "data": {
      "text/plain": [
       "14658433"
      ]
     },
     "execution_count": 17,
     "metadata": {},
     "output_type": "execute_result"
    }
   ],
   "source": [
    "len(full_text.split())"
   ]
  },
  {
   "cell_type": "code",
   "execution_count": 23,
   "metadata": {},
   "outputs": [
    {
     "data": {
      "text/plain": [
       "'بسم الله الرحمن الرحيم سورة الفاتحة . يقال لها الفاتحة أي فاتحة الكتاب خطا وبها تفتح القراءة في الصل'"
      ]
     },
     "execution_count": 23,
     "metadata": {},
     "output_type": "execute_result"
    }
   ],
   "source": [
    "full_text[:100]"
   ]
  },
  {
   "cell_type": "code",
   "execution_count": 53,
   "metadata": {},
   "outputs": [],
   "source": [
    "with open(\"../data/tafsirs_concat.txt\", \"w\", encoding='utf-8') as f:\n",
    "    f.write(full_text)"
   ]
  },
  {
   "cell_type": "markdown",
   "metadata": {},
   "source": [
    "## Build as csv"
   ]
  },
  {
   "cell_type": "code",
   "execution_count": 158,
   "metadata": {},
   "outputs": [
    {
     "data": {
      "text/html": [
       "<div>\n",
       "<style scoped>\n",
       "    .dataframe tbody tr th:only-of-type {\n",
       "        vertical-align: middle;\n",
       "    }\n",
       "\n",
       "    .dataframe tbody tr th {\n",
       "        vertical-align: top;\n",
       "    }\n",
       "\n",
       "    .dataframe thead th {\n",
       "        text-align: right;\n",
       "    }\n",
       "</style>\n",
       "<table border=\"1\" class=\"dataframe\">\n",
       "  <thead>\n",
       "    <tr style=\"text-align: right;\">\n",
       "      <th></th>\n",
       "      <th>text</th>\n",
       "      <th>resource_name</th>\n",
       "      <th>verses_keys</th>\n",
       "    </tr>\n",
       "  </thead>\n",
       "  <tbody>\n",
       "    <tr>\n",
       "      <th>0</th>\n",
       "      <td>بسم الله الرحمن الرحيم سورة الفاتحة . يقال لها...</td>\n",
       "      <td>ابن كثير</td>\n",
       "      <td>1:1</td>\n",
       "    </tr>\n",
       "    <tr>\n",
       "      <th>1</th>\n",
       "      <td>سورة الفاتحة سميت هذه السورة بالفاتحة؛ لأنه يف...</td>\n",
       "      <td>المیسر</td>\n",
       "      <td>1:1</td>\n",
       "    </tr>\n",
       "    <tr>\n",
       "      <th>2</th>\n",
       "      <td>البسملة اسم لكلمة باسم الله، صيغ هذا الاسم على...</td>\n",
       "      <td>Arabic Tanweer Tafseer</td>\n",
       "      <td>1:1</td>\n",
       "    </tr>\n",
       "    <tr>\n",
       "      <th>3</th>\n",
       "      <td>{ بسم ٱلله الرَّحْمٰنِ الرَّحِيـمِ }الاسم: الل...</td>\n",
       "      <td>Arabic Waseet Tafseer</td>\n",
       "      <td>1:1</td>\n",
       "    </tr>\n",
       "    <tr>\n",
       "      <th>4</th>\n",
       "      <td>بسمالقول في تأويل { بسم} قال أبو جعفر : إن الل...</td>\n",
       "      <td>الطبري</td>\n",
       "      <td>1:1</td>\n",
       "    </tr>\n",
       "    <tr>\n",
       "      <th>...</th>\n",
       "      <td>...</td>\n",
       "      <td>...</td>\n",
       "      <td>...</td>\n",
       "    </tr>\n",
       "    <tr>\n",
       "      <th>49883</th>\n",
       "      <td>وقوله : ( مِنَ الجنة والناس ) زيادة بيان للذى ...</td>\n",
       "      <td>Arabic Waseet Tafseer</td>\n",
       "      <td>114:6</td>\n",
       "    </tr>\n",
       "    <tr>\n",
       "      <th>49884</th>\n",
       "      <td>وقوله: ( الَّذِي يُوَسْوِسُ فِي صُدُورِ النَّا...</td>\n",
       "      <td>الطبري</td>\n",
       "      <td>114:6</td>\n",
       "    </tr>\n",
       "    <tr>\n",
       "      <th>49885</th>\n",
       "      <td>قوله تعالى : من الجنة والناس أخبر أن الموسوس ق...</td>\n",
       "      <td>Arabic Qurtubi Tafseer</td>\n",
       "      <td>114:6</td>\n",
       "    </tr>\n",
       "    <tr>\n",
       "      <th>49886</th>\n",
       "      <td>وهذه السورة مشتملة على الاستعاذة برب الناس وما...</td>\n",
       "      <td>Arabic Saddi Tafseer</td>\n",
       "      <td>114:6</td>\n",
       "    </tr>\n",
       "    <tr>\n",
       "      <th>49887</th>\n",
       "      <td>( من الجنة والناس ) يعني يدخل في الجني كما يدخ...</td>\n",
       "      <td>Arabic Baghawy Tafseer</td>\n",
       "      <td>114:6</td>\n",
       "    </tr>\n",
       "  </tbody>\n",
       "</table>\n",
       "<p>49888 rows × 3 columns</p>\n",
       "</div>"
      ],
      "text/plain": [
       "                                                    text  \\\n",
       "0      بسم الله الرحمن الرحيم سورة الفاتحة . يقال لها...   \n",
       "1      سورة الفاتحة سميت هذه السورة بالفاتحة؛ لأنه يف...   \n",
       "2      البسملة اسم لكلمة باسم الله، صيغ هذا الاسم على...   \n",
       "3      { بسم ٱلله الرَّحْمٰنِ الرَّحِيـمِ }الاسم: الل...   \n",
       "4      بسمالقول في تأويل { بسم} قال أبو جعفر : إن الل...   \n",
       "...                                                  ...   \n",
       "49883  وقوله : ( مِنَ الجنة والناس ) زيادة بيان للذى ...   \n",
       "49884  وقوله: ( الَّذِي يُوَسْوِسُ فِي صُدُورِ النَّا...   \n",
       "49885  قوله تعالى : من الجنة والناس أخبر أن الموسوس ق...   \n",
       "49886  وهذه السورة مشتملة على الاستعاذة برب الناس وما...   \n",
       "49887  ( من الجنة والناس ) يعني يدخل في الجني كما يدخ...   \n",
       "\n",
       "                resource_name verses_keys  \n",
       "0                    ابن كثير         1:1  \n",
       "1                      المیسر         1:1  \n",
       "2      Arabic Tanweer Tafseer         1:1  \n",
       "3       Arabic Waseet Tafseer         1:1  \n",
       "4                      الطبري         1:1  \n",
       "...                       ...         ...  \n",
       "49883   Arabic Waseet Tafseer       114:6  \n",
       "49884                  الطبري       114:6  \n",
       "49885  Arabic Qurtubi Tafseer       114:6  \n",
       "49886    Arabic Saddi Tafseer       114:6  \n",
       "49887  Arabic Baghawy Tafseer       114:6  \n",
       "\n",
       "[49888 rows x 3 columns]"
      ]
     },
     "execution_count": 158,
     "metadata": {},
     "output_type": "execute_result"
    }
   ],
   "source": [
    "import pandas as pd\n",
    "\n",
    "tafsirs_pd = pd.DataFrame()\n",
    "\n",
    "tafsirs_list = []\n",
    "resource_name_list = []\n",
    "verses_keys = []\n",
    "\n",
    "for verse in q :\n",
    "    for tafsir in verse[\"tafsirs\"]:\n",
    "        tafsirs_list.append(tafsir[\"text\"].replace(\"\\r\", \"\\n\"))       # There is one tafsir containing \\r instead of \\n => breaks the csv\n",
    "        resource_name_list.append(tafsir[\"resource_name\"])\n",
    "        verses_keys.append(\" + \".join(list(tafsir[\"verses\"].keys())))\n",
    "\n",
    "tafsirs_pd[\"text\"] = tafsirs_list\n",
    "tafsirs_pd[\"resource_name\"] = resource_name_list\n",
    "tafsirs_pd[\"verses_keys\"] = verses_keys\n",
    "\n",
    "tafsirs_pd.to_csv(\"../data/arabic_tafsirs.csv\", index=False, encoding='utf-8')\n",
    "tafsirs_pd"
   ]
  },
  {
   "cell_type": "markdown",
   "metadata": {},
   "source": [
    "Verify if saved Correctly"
   ]
  },
  {
   "cell_type": "code",
   "execution_count": 170,
   "metadata": {},
   "outputs": [
    {
     "name": "stdout",
     "output_type": "stream",
     "text": [
      "saved correctly 👍\n"
     ]
    }
   ],
   "source": [
    "verif = pd.read_csv(\"../data/arabic_tafsirs.csv\")\n",
    "for i in range(len(tafsirs_pd)):\n",
    "    assert np.all(verif.iloc[i] == tafsirs_pd.iloc[i]), 'No match for i={}, got {} and {}'.format(i, verif.iloc[i], tafsirs_pd.iloc[i])\n",
    "print(\"saved correctly 👍\")"
   ]
  }
 ],
 "metadata": {
  "kernelspec": {
   "display_name": "Python 3.9.13 ('machine_learning')",
   "language": "python",
   "name": "python3"
  },
  "language_info": {
   "codemirror_mode": {
    "name": "ipython",
    "version": 3
   },
   "file_extension": ".py",
   "mimetype": "text/x-python",
   "name": "python",
   "nbconvert_exporter": "python",
   "pygments_lexer": "ipython3",
   "version": "3.9.13"
  },
  "orig_nbformat": 4,
  "vscode": {
   "interpreter": {
    "hash": "90d5fba511f88753fbe8cec30bbfde487a2bdcc5c4f28b6e83142be88ea44a1a"
   }
  }
 },
 "nbformat": 4,
 "nbformat_minor": 2
}
