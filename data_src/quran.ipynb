{
 "cells": [
  {
   "cell_type": "code",
   "execution_count": 132,
   "metadata": {},
   "outputs": [
    {
     "data": {
      "text/plain": [
       "{'chapter': {'id': 11,\n",
       "  'revelation_place': 'makkah',\n",
       "  'revelation_order': 52,\n",
       "  'bismillah_pre': True,\n",
       "  'name_simple': 'Hud',\n",
       "  'name_complex': 'Hūd',\n",
       "  'name_arabic': 'هود',\n",
       "  'verses_count': 123,\n",
       "  'pages': [221, 235],\n",
       "  'chapter_number': 11,\n",
       "  'translated_name': {'language_name': 'english', 'name': 'Hud'}}}"
      ]
     },
     "execution_count": 132,
     "metadata": {},
     "output_type": "execute_result"
    }
   ],
   "source": [
    "import requests\n",
    "import numpy as np\n",
    "\n",
    "url = \"https://api.quran.com/api/v3/chapters/11\"\n",
    "data = requests.get(url).json()\n",
    "data"
   ]
  },
  {
   "cell_type": "code",
   "execution_count": 2,
   "metadata": {},
   "outputs": [
    {
     "data": {
      "text/plain": [
       "{'verse': {'id': 1475,\n",
       "  'verse_number': 2,\n",
       "  'chapter_id': 11,\n",
       "  'verse_key': '11:2',\n",
       "  'text_indopak': 'اَلَّا تَعۡبُدُوۡۤا اِلَّا اللّٰهَ\\u200b ؕ اِنَّنِىۡ لَـكُمۡ مِّنۡهُ نَذِيۡرٌ وَّبَشِيۡرٌ ۙ\\u200f',\n",
       "  'juz_number': 11,\n",
       "  'hizb_number': 22,\n",
       "  'rub_el_hizb_number': 88,\n",
       "  'sajdah_number': None,\n",
       "  'page_number': 221,\n",
       "  'sajdah': None,\n",
       "  'text_madani': 'أَلَّا تَعْبُدُوٓا۟ إِلَّا ٱللَّهَ ۚ إِنَّنِى لَكُم مِّنْهُ نَذِيرٌ وَبَشِيرٌ',\n",
       "  'words': [{'id': 1749,\n",
       "    'position': 1,\n",
       "    'text_indopak': 'اَلَّا',\n",
       "    'verse_key': '11:2',\n",
       "    'line_number': 10,\n",
       "    'page_number': 221,\n",
       "    'code': '&#xfba0;',\n",
       "    'class_name': 'p221',\n",
       "    'text_madani': 'أَلَّا',\n",
       "    'char_type': 'word',\n",
       "    'transliteration': {'text': 'allā', 'language_name': 'english'},\n",
       "    'translation': {'language_name': 'english', 'text': 'That \"Not'},\n",
       "    'audio': {'url': 'wbw/011_002_001.mp3'}},\n",
       "   {'id': 1750,\n",
       "    'position': 2,\n",
       "    'text_indopak': 'تَعۡبُدُوۡۤا',\n",
       "    'verse_key': '11:2',\n",
       "    'line_number': 10,\n",
       "    'page_number': 221,\n",
       "    'code': '&#xfba1;',\n",
       "    'class_name': 'p221',\n",
       "    'text_madani': 'تَعْبُدُوٓا۟',\n",
       "    'char_type': 'word',\n",
       "    'transliteration': {'text': 'taʿbudū', 'language_name': 'english'},\n",
       "    'translation': {'language_name': 'english', 'text': 'you worship'},\n",
       "    'audio': {'url': 'wbw/011_002_002.mp3'}},\n",
       "   {'id': 1751,\n",
       "    'position': 3,\n",
       "    'text_indopak': 'اِلَّا',\n",
       "    'verse_key': '11:2',\n",
       "    'line_number': 10,\n",
       "    'page_number': 221,\n",
       "    'code': '&#xfba2;',\n",
       "    'class_name': 'p221',\n",
       "    'text_madani': 'إِلَّا',\n",
       "    'char_type': 'word',\n",
       "    'transliteration': {'text': 'illā', 'language_name': 'english'},\n",
       "    'translation': {'language_name': 'english', 'text': 'but'},\n",
       "    'audio': {'url': 'wbw/011_002_003.mp3'}},\n",
       "   {'id': 1752,\n",
       "    'position': 4,\n",
       "    'text_indopak': 'اللّٰهَ\\u200b ؕ',\n",
       "    'verse_key': '11:2',\n",
       "    'line_number': 10,\n",
       "    'page_number': 221,\n",
       "    'code': '&#xfba3;',\n",
       "    'class_name': 'p221',\n",
       "    'text_madani': 'ٱللَّهَ ۚ',\n",
       "    'char_type': 'word',\n",
       "    'transliteration': {'text': 'l-laha', 'language_name': 'english'},\n",
       "    'translation': {'language_name': 'english', 'text': 'Allah'},\n",
       "    'audio': {'url': 'wbw/011_002_004.mp3'}},\n",
       "   {'id': 1754,\n",
       "    'position': 5,\n",
       "    'text_indopak': 'اِنَّنِىۡ',\n",
       "    'verse_key': '11:2',\n",
       "    'line_number': 10,\n",
       "    'page_number': 221,\n",
       "    'code': '&#xfba5;',\n",
       "    'class_name': 'p221',\n",
       "    'text_madani': 'إِنَّنِى',\n",
       "    'char_type': 'word',\n",
       "    'transliteration': {'text': 'innanī', 'language_name': 'english'},\n",
       "    'translation': {'language_name': 'english', 'text': 'Indeed, I am'},\n",
       "    'audio': {'url': 'wbw/011_002_006.mp3'}},\n",
       "   {'id': 1755,\n",
       "    'position': 6,\n",
       "    'text_indopak': 'لَـكُمۡ',\n",
       "    'verse_key': '11:2',\n",
       "    'line_number': 10,\n",
       "    'page_number': 221,\n",
       "    'code': '&#xfba6;',\n",
       "    'class_name': 'p221',\n",
       "    'text_madani': 'لَكُم',\n",
       "    'char_type': 'word',\n",
       "    'transliteration': {'text': 'lakum', 'language_name': 'english'},\n",
       "    'translation': {'language_name': 'english', 'text': 'to you'},\n",
       "    'audio': {'url': 'wbw/011_002_007.mp3'}},\n",
       "   {'id': 1756,\n",
       "    'position': 7,\n",
       "    'text_indopak': 'مِّنۡهُ',\n",
       "    'verse_key': '11:2',\n",
       "    'line_number': 10,\n",
       "    'page_number': 221,\n",
       "    'code': '&#xfba7;',\n",
       "    'class_name': 'p221',\n",
       "    'text_madani': 'مِّنْهُ',\n",
       "    'char_type': 'word',\n",
       "    'transliteration': {'text': \"min'hu\", 'language_name': 'english'},\n",
       "    'translation': {'language_name': 'english', 'text': 'from Him'},\n",
       "    'audio': {'url': 'wbw/011_002_008.mp3'}},\n",
       "   {'id': 1757,\n",
       "    'position': 8,\n",
       "    'text_indopak': 'نَذِيۡرٌ',\n",
       "    'verse_key': '11:2',\n",
       "    'line_number': 10,\n",
       "    'page_number': 221,\n",
       "    'code': '&#xfba8;',\n",
       "    'class_name': 'p221',\n",
       "    'text_madani': 'نَذِيرٌۭ',\n",
       "    'char_type': 'word',\n",
       "    'transliteration': {'text': 'nadhīrun', 'language_name': 'english'},\n",
       "    'translation': {'language_name': 'english', 'text': 'a warner'},\n",
       "    'audio': {'url': 'wbw/011_002_009.mp3'}},\n",
       "   {'id': 1758,\n",
       "    'position': 9,\n",
       "    'text_indopak': 'وَّبَشِيۡرٌ ۙ\\u200f',\n",
       "    'verse_key': '11:2',\n",
       "    'line_number': 10,\n",
       "    'page_number': 221,\n",
       "    'code': '&#xfba9;',\n",
       "    'class_name': 'p221',\n",
       "    'text_madani': 'وَبَشِيرٌۭ',\n",
       "    'char_type': 'word',\n",
       "    'transliteration': {'text': 'wabashīrun', 'language_name': 'english'},\n",
       "    'translation': {'language_name': 'english',\n",
       "     'text': 'and a bearer of glad tidings'},\n",
       "    'audio': {'url': 'wbw/011_002_010.mp3'}},\n",
       "   {'id': 1759,\n",
       "    'position': 10,\n",
       "    'text_indopak': '٢',\n",
       "    'verse_key': '11:2',\n",
       "    'line_number': 10,\n",
       "    'page_number': 221,\n",
       "    'code': '&#xfbaa;',\n",
       "    'class_name': 'p221',\n",
       "    'text_madani': '٢',\n",
       "    'char_type': 'end',\n",
       "    'transliteration': {'text': None, 'language_name': 'english'},\n",
       "    'translation': {'language_name': 'english', 'text': '(2)'},\n",
       "    'audio': {'url': None}}]}}"
      ]
     },
     "execution_count": 2,
     "metadata": {},
     "output_type": "execute_result"
    }
   ],
   "source": [
    "url = \"https://api.quran.com/api/v3/chapters/11/verses/11:2\"\n",
    "data = requests.get(url).json()\n",
    "data"
   ]
  },
  {
   "cell_type": "markdown",
   "metadata": {},
   "source": [
    "## Using version 3"
   ]
  },
  {
   "cell_type": "code",
   "execution_count": 3,
   "metadata": {},
   "outputs": [],
   "source": [
    "# class verse():\n",
    "#     def __init__(self, chapter, verse, base_url=\"https://api.quran.com/api/v3/chapters/\"):\n",
    "#         # -------------------------------- Definitions ------------------------------- #\n",
    "#         self.chapter = chapter\n",
    "#         self.verse = verse\n",
    "#         self.base_url = base_url\n",
    "#         self.url = self.base_url + \"{}/verses/{}:{}\".format(chapter, chapter, verse)\n",
    "#         # ------------------------------- Download data ------------------------------ #\n",
    "#         self.download()\n",
    "#         # ------------------------------ important data ------------------------------ #\n",
    "#         self.text = self.data[\"verse\"][\"text_madani\"]\n",
    "#         self.verse_id = self.data[\"verse\"][\"id\"]\n",
    "        \n",
    "#     def download(self):\n",
    "        # resp = requests.get(self.url)\n",
    "        # assert resp.status_code == 200, \"Status != 200 when downloading from {}, found status {}\".format(self.url, resp.status_code)\n",
    "        # self.data = resp.json()"
   ]
  },
  {
   "cell_type": "code",
   "execution_count": 4,
   "metadata": {},
   "outputs": [],
   "source": [
    "# verse(11, 2).verse"
   ]
  },
  {
   "cell_type": "code",
   "execution_count": 5,
   "metadata": {},
   "outputs": [],
   "source": [
    "# QURAN_CHAPTERS = 114\n",
    "\n",
    "# class Quran():\n",
    "#     def __init__(self,\n",
    "#                 base_link = \"https://api.quran.com/api/v3/chapters/\"):\n",
    "#         self.base_link = base_link\n",
    "#         self.chapters = []\n",
    "            \n",
    "#     def download(self):"
   ]
  },
  {
   "cell_type": "markdown",
   "metadata": {},
   "source": [
    "## Using Version 4"
   ]
  },
  {
   "cell_type": "code",
   "execution_count": 6,
   "metadata": {},
   "outputs": [],
   "source": [
    "import asyncio\n",
    "import aiohttp\n",
    "import time\n",
    "import json\n",
    "import requests\n",
    "from tqdm import tqdm\n",
    "\n",
    "def get_tafsir(tafsir_id, key):\n",
    "    \"\"\"\n",
    "    description: key could be verse key or a verse id\n",
    "    \"\"\"\n",
    "    url = \"https://api.quran.com/api/v4/tafsirs/{}/by_ayah/{}\".format(tafsir_id, key)\n",
    "    resp = requests.get(url)\n",
    "    assert resp.status_code == 200, \"Status != 200 when downloading from {}, found status {}\".format(url, resp.status_code)\n",
    "    return resp.json()\n",
    "\n",
    "def get_all_tafsirs_info():\n",
    "    url = \"https://api.quran.com/api/v4/resources/tafsirs\"\n",
    "    resp = requests.get(url)\n",
    "    assert resp.status_code == 200, \"Status != 200 when downloading from {}, found status {}\".format(url, resp.status_code)\n",
    "    return resp.json()[\"tafsirs\"]\n",
    "\n",
    "def get_quran(text_type=\"imlaei\"):\n",
    "    url = \"https://api.quran.com/api/v4/quran/verses/{}\".format(text_type)\n",
    "    resp = requests.get(url)\n",
    "    assert resp.status_code == 200, \"Status != 200 when downloading from {}, found status {}\".format(url, resp.status_code)\n",
    "    return resp.json()[\"verses\"]\n",
    "\n",
    "\n",
    "async def get(url, session):\n",
    "    try:\n",
    "        async with session.get(url=url) as response:\n",
    "            resp = await response.read()\n",
    "            return resp\n",
    "    except Exception as e:\n",
    "        print(\"Unable to get url {} due to {}.\".format(url, e.__class__))\n",
    "\n",
    "\n",
    "async def get_tafsirs(tafsir_id, keys, tafsirs):\n",
    "    # -------------------------------- build urls -------------------------------- #\n",
    "    urls = []\n",
    "    for key in keys:\n",
    "        url = \"https://api.quran.com/api/v4/tafsirs/{}/by_ayah/{}\".format(tafsir_id, key)\n",
    "        urls.append(url)\n",
    "    # --------------------------------- get urls --------------------------------- #\n",
    "    async with aiohttp.ClientSession() as session:\n",
    "        responses = await asyncio.gather(*[get(url, session) for url in urls])\n",
    "        # tafsirs = []\n",
    "        for resp in tqdm(responses, \"creating jsons from reqponses for {}\".format(tafsir_id)):\n",
    "            try:\n",
    "                json_resp = json.loads(resp)\n",
    "            except:\n",
    "                print(resp)\n",
    "                json_resp = json.loads(resp)\n",
    "            tafsirs.append(json_resp[\"tafsir\"])\n",
    "        # print(tafsirs)"
   ]
  },
  {
   "cell_type": "code",
   "execution_count": 7,
   "metadata": {},
   "outputs": [
    {
     "data": {
      "text/plain": [
       "{'tafsir': {'verses': {'53:37': {'id': 4821}},\n",
       "  'resource_id': 92,\n",
       "  'resource_name': 'Arabic Tanweer Tafseer',\n",
       "  'language_id': 9,\n",
       "  'slug': 'ar-tafseer-tanwir-al-miqbas',\n",
       "  'translated_name': {'name': 'Tafseer Tanwir al-Miqbas',\n",
       "   'language_name': 'english'},\n",
       "  'text': 'وَإِبْرَاهِيمَ الَّذِي وَفَّى (37('}}"
      ]
     },
     "execution_count": 7,
     "metadata": {},
     "output_type": "execute_result"
    }
   ],
   "source": [
    "get_tafsir(92,4821)"
   ]
  },
  {
   "cell_type": "code",
   "execution_count": 8,
   "metadata": {},
   "outputs": [],
   "source": [
    "QURAN_CHAPTERS = 114\n",
    "\n",
    "class Quran():\n",
    "    def __init__(self,\n",
    "                tafsirs_getter = get_tafsirs,\n",
    "                all_tafsirs_getter = get_all_tafsirs_info,\n",
    "                quran_getter = get_quran,\n",
    "                language = \"arabic\"\n",
    "                ):\n",
    "        self.tafsirs_getter     = tafsirs_getter\n",
    "        self.quran_getter       = quran_getter\n",
    "        self.all_tafsirs_getter = all_tafsirs_getter\n",
    "        self.language           = language\n",
    "        # self.download()\n",
    "                    \n",
    "    async def download(self):\n",
    "        # ------------------------- Get quran and tafsir list ------------------------ #\n",
    "        self.quran = self.quran_getter()\n",
    "        self.all_tafsirs = self.all_tafsirs_getter()\n",
    "        \n",
    "        \n",
    "        # ------------------ Only get tafsirs of language 'language' ----------------- #\n",
    "        tafsir_ids = []\n",
    "        for tafsir in self.all_tafsirs :\n",
    "            if tafsir[\"language_name\"] == self.language:\n",
    "                tafsir_ids.append(tafsir[\"id\"])\n",
    "        # --------------------------------- vers keys -------------------------------- #\n",
    "        keys = []\n",
    "        for verse in self.quran:\n",
    "            keys.append(verse[\"id\"])\n",
    "        # --------------------------- download the tafsirs -------------------------- #\n",
    "        for verse in self.quran: # just build the list that will contain the tafsirs\n",
    "            verse[\"tafsirs\"] = []\n",
    "        for tafsir_id in tafsir_ids:\n",
    "            tafsirs = []\n",
    "            await self.tafsirs_getter(tafsir_id, keys, tafsirs)\n",
    "            self.tafsirs = tafsirs\n",
    "            for verse, tafsir in zip(self.quran, self.tafsirs):\n",
    "                verse[\"tafsirs\"].append(tafsir)\n",
    "    \n",
    "        # for verse in self.quran:\n",
    "        #     verse_id = verse[\"id\"]\n",
    "        #     for tafsir_id in tafsir_ids:\n",
    "        #         tafsir = self.tafsir_getter(tafsir_id, verse_id)\n",
    "        #         verse[\"tafsirs\"].append(tafsir)\n",
    "            "
   ]
  },
  {
   "cell_type": "code",
   "execution_count": 31,
   "metadata": {},
   "outputs": [
    {
     "name": "stderr",
     "output_type": "stream",
     "text": [
      "creating jsons from reqponses for 14: 100%|██████████| 6236/6236 [00:00<00:00, 77044.94it/s]\n",
      "creating jsons from reqponses for 16: 100%|██████████| 6236/6236 [00:00<00:00, 145911.62it/s]\n",
      "creating jsons from reqponses for 92: 100%|██████████| 6236/6236 [00:00<00:00, 55481.11it/s]\n",
      "creating jsons from reqponses for 93: 100%|██████████| 6236/6236 [00:00<00:00, 69282.16it/s]\n",
      "creating jsons from reqponses for 15: 100%|██████████| 6236/6236 [00:00<00:00, 44550.03it/s]\n",
      "creating jsons from reqponses for 90: 100%|██████████| 6236/6236 [00:00<00:00, 68638.19it/s]\n",
      "creating jsons from reqponses for 91: 100%|██████████| 6236/6236 [00:00<00:00, 112015.28it/s]\n",
      "creating jsons from reqponses for 94: 100%|██████████| 6236/6236 [00:00<00:00, 94468.49it/s]\n"
     ]
    }
   ],
   "source": [
    "quran = Quran()\n",
    "await quran.download()"
   ]
  },
  {
   "cell_type": "code",
   "execution_count": 26,
   "metadata": {},
   "outputs": [],
   "source": [
    "#save the json file in the data folder\n",
    "import json\n",
    "with open(\"../data/quran_tafsirs.json\", \"w\") as f:\n",
    "    json.dump(quran.quran, f)"
   ]
  },
  {
   "cell_type": "code",
   "execution_count": 9,
   "metadata": {},
   "outputs": [],
   "source": [
    "import json\n",
    "with open(\"../data/quran_tafsirs.json\", \"r\") as f:\n",
    "    q = json.load(f)"
   ]
  },
  {
   "cell_type": "markdown",
   "metadata": {},
   "source": [
    "Test if all the tafsirs go to the right verse"
   ]
  },
  {
   "cell_type": "code",
   "execution_count": 10,
   "metadata": {},
   "outputs": [
    {
     "data": {
      "text/plain": [
       "1"
      ]
     },
     "execution_count": 10,
     "metadata": {},
     "output_type": "execute_result"
    }
   ],
   "source": [
    "q[0][\"tafsirs\"][0][\"verses\"][\"1:1\"][\"id\"]"
   ]
  },
  {
   "cell_type": "code",
   "execution_count": 43,
   "metadata": {},
   "outputs": [
    {
     "ename": "AssertionError",
     "evalue": "key 2:59 not in tafsir {'2:49': {'id': 56}, '2:50': {'id': 57}, '2:51': {'id': 58}, '2:52': {'id': 59}, '2:53': {'id': 60}, '2:54': {'id': 61}, '2:55': {'id': 62}, '2:56': {'id': 63}, '2:57': {'id': 64}, '2:58': {'id': 65}}, for tafsir 92",
     "output_type": "error",
     "traceback": [
      "\u001b[0;31m---------------------------------------------------------------------------\u001b[0m",
      "\u001b[0;31mAssertionError\u001b[0m                            Traceback (most recent call last)",
      "\u001b[1;32m/mnt/c/Users/Mustapha/Documents/Projects/islamic_search/data_src/quran.ipynb Cell 16'\u001b[0m in \u001b[0;36m<cell line: 1>\u001b[0;34m()\u001b[0m\n\u001b[1;32m      <a href='vscode-notebook-cell://wsl%2Bubuntu/mnt/c/Users/Mustapha/Documents/Projects/islamic_search/data_src/quran.ipynb#ch0000013vscode-remote?line=2'>3</a>\u001b[0m     key \u001b[39m=\u001b[39m verse[\u001b[39m\"\u001b[39m\u001b[39mverse_key\u001b[39m\u001b[39m\"\u001b[39m]\n\u001b[1;32m      <a href='vscode-notebook-cell://wsl%2Bubuntu/mnt/c/Users/Mustapha/Documents/Projects/islamic_search/data_src/quran.ipynb#ch0000013vscode-remote?line=3'>4</a>\u001b[0m     \u001b[39mfor\u001b[39;00m tafsir \u001b[39min\u001b[39;00m verse[\u001b[39m\"\u001b[39m\u001b[39mtafsirs\u001b[39m\u001b[39m\"\u001b[39m]:\n\u001b[0;32m----> <a href='vscode-notebook-cell://wsl%2Bubuntu/mnt/c/Users/Mustapha/Documents/Projects/islamic_search/data_src/quran.ipynb#ch0000013vscode-remote?line=4'>5</a>\u001b[0m         \u001b[39massert\u001b[39;00m key \u001b[39min\u001b[39;00m tafsir[\u001b[39m\"\u001b[39m\u001b[39mverses\u001b[39m\u001b[39m\"\u001b[39m], \u001b[39m\"\u001b[39m\u001b[39mkey \u001b[39m\u001b[39m{}\u001b[39;00m\u001b[39m not in tafsir \u001b[39m\u001b[39m{}\u001b[39;00m\u001b[39m, for tafsir \u001b[39m\u001b[39m{}\u001b[39;00m\u001b[39m\"\u001b[39m\u001b[39m.\u001b[39mformat(key, tafsir[\u001b[39m\"\u001b[39m\u001b[39mverses\u001b[39m\u001b[39m\"\u001b[39m], tafsir[\u001b[39m\"\u001b[39m\u001b[39mresource_id\u001b[39m\u001b[39m\"\u001b[39m])\n\u001b[1;32m      <a href='vscode-notebook-cell://wsl%2Bubuntu/mnt/c/Users/Mustapha/Documents/Projects/islamic_search/data_src/quran.ipynb#ch0000013vscode-remote?line=5'>6</a>\u001b[0m         \u001b[39massert\u001b[39;00m \u001b[39mid\u001b[39m \u001b[39m==\u001b[39m tafsir[\u001b[39m\"\u001b[39m\u001b[39mverses\u001b[39m\u001b[39m\"\u001b[39m][key][\u001b[39m\"\u001b[39m\u001b[39mid\u001b[39m\u001b[39m\"\u001b[39m], \u001b[39m\"\u001b[39m\u001b[39mverse id \u001b[39m\u001b[39m{}\u001b[39;00m\u001b[39m != tafsir id \u001b[39m\u001b[39m{}\u001b[39;00m\u001b[39m for tafsir \u001b[39m\u001b[39m{}\u001b[39;00m\u001b[39m\"\u001b[39m\u001b[39m.\u001b[39mformat(\u001b[39mid\u001b[39m, tafsir[\u001b[39m\"\u001b[39m\u001b[39mverses\u001b[39m\u001b[39m\"\u001b[39m][key][\u001b[39m\"\u001b[39m\u001b[39mid\u001b[39m\u001b[39m\"\u001b[39m], tafsir[\u001b[39m\"\u001b[39m\u001b[39mresource_id\u001b[39m\u001b[39m\"\u001b[39m])\n\u001b[1;32m      <a href='vscode-notebook-cell://wsl%2Bubuntu/mnt/c/Users/Mustapha/Documents/Projects/islamic_search/data_src/quran.ipynb#ch0000013vscode-remote?line=7'>8</a>\u001b[0m \u001b[39mprint\u001b[39m(\u001b[39m\"\u001b[39m\u001b[39mAll done\u001b[39m\u001b[39m\"\u001b[39m)\n",
      "\u001b[0;31mAssertionError\u001b[0m: key 2:59 not in tafsir {'2:49': {'id': 56}, '2:50': {'id': 57}, '2:51': {'id': 58}, '2:52': {'id': 59}, '2:53': {'id': 60}, '2:54': {'id': 61}, '2:55': {'id': 62}, '2:56': {'id': 63}, '2:57': {'id': 64}, '2:58': {'id': 65}}, for tafsir 92"
     ]
    }
   ],
   "source": [
    "for verse in q:\n",
    "    id = verse[\"id\"]\n",
    "    key = verse[\"verse_key\"]\n",
    "    for tafsir in verse[\"tafsirs\"]:\n",
    "        assert key in tafsir[\"verses\"], \"key {} not in tafsir {}, for tafsir {}\".format(key, tafsir[\"verses\"], tafsir[\"resource_id\"])\n",
    "        assert id == tafsir[\"verses\"][key][\"id\"], \"verse id {} != tafsir id {} for tafsir {}\".format(id, tafsir[\"verses\"][key][\"id\"], tafsir[\"resource_id\"])\n",
    "\n",
    "print(\"All done\")"
   ]
  },
  {
   "cell_type": "markdown",
   "metadata": {},
   "source": [
    "verses ids are correctly ordered ?"
   ]
  },
  {
   "cell_type": "code",
   "execution_count": 11,
   "metadata": {},
   "outputs": [],
   "source": [
    "for i,verse in enumerate(q) :\n",
    "    assert i + 1 == verse[\"id\"], \"verse id {} != {}\".format(i, verse[\"id\"])"
   ]
  },
  {
   "cell_type": "code",
   "execution_count": 12,
   "metadata": {},
   "outputs": [
    {
     "data": {
      "text/plain": [
       "8"
      ]
     },
     "execution_count": 12,
     "metadata": {},
     "output_type": "execute_result"
    }
   ],
   "source": [
    "len(q[0][\"tafsirs\"])"
   ]
  },
  {
   "cell_type": "markdown",
   "metadata": {},
   "source": [
    "## Build continuous text"
   ]
  },
  {
   "cell_type": "code",
   "execution_count": 13,
   "metadata": {},
   "outputs": [],
   "source": [
    "full_text = \"\"\n",
    "for verse in q :\n",
    "    for tafsir in verse[\"tafsirs\"]:\n",
    "        full_text += tafsir[\"text\"]"
   ]
  },
  {
   "cell_type": "code",
   "execution_count": 18,
   "metadata": {},
   "outputs": [
    {
     "data": {
      "text/plain": [
       "74355991"
      ]
     },
     "execution_count": 18,
     "metadata": {},
     "output_type": "execute_result"
    }
   ],
   "source": [
    "len(full_text)"
   ]
  },
  {
   "cell_type": "code",
   "execution_count": 17,
   "metadata": {},
   "outputs": [
    {
     "data": {
      "text/plain": [
       "14658433"
      ]
     },
     "execution_count": 17,
     "metadata": {},
     "output_type": "execute_result"
    }
   ],
   "source": [
    "len(full_text.split())"
   ]
  },
  {
   "cell_type": "code",
   "execution_count": 23,
   "metadata": {},
   "outputs": [
    {
     "data": {
      "text/plain": [
       "'بسم الله الرحمن الرحيم سورة الفاتحة . يقال لها الفاتحة أي فاتحة الكتاب خطا وبها تفتح القراءة في الصل'"
      ]
     },
     "execution_count": 23,
     "metadata": {},
     "output_type": "execute_result"
    }
   ],
   "source": [
    "full_text[:100]"
   ]
  },
  {
   "cell_type": "code",
   "execution_count": 53,
   "metadata": {},
   "outputs": [],
   "source": [
    "with open(\"../data/tafsirs_concat.txt\", \"w\", encoding='utf-8') as f:\n",
    "    f.write(full_text)"
   ]
  },
  {
   "cell_type": "markdown",
   "metadata": {},
   "source": [
    "## Build as csv"
   ]
  },
  {
   "cell_type": "code",
   "execution_count": 56,
   "metadata": {},
   "outputs": [
    {
     "data": {
      "text/plain": [
       "{'id': 101,\n",
       " 'verse_key': '2:94',\n",
       " 'text_imlaei': 'قُلْ إِن كَانَتْ لَكُمُ الدَّارُ الْآخِرَةُ عِندَ اللَّهِ خَالِصَةً مِّن دُونِ النَّاسِ فَتَمَنَّوُا الْمَوْتَ إِن كُنتُمْ صَادِقِينَ',\n",
       " 'tafsirs': [{'verses': {'2:94': {'id': 101}},\n",
       "   'resource_id': 14,\n",
       "   'resource_name': 'ابن كثير',\n",
       "   'language_id': 9,\n",
       "   'slug': 'ar-tafsir-ibn-kathir',\n",
       "   'translated_name': {'name': 'Tafsir Ibn Kathir',\n",
       "    'language_name': 'english'},\n",
       "   'text': 'قال محمد بن إسحق عن محمد بن أبي محمد عن عكرمة أو سعيد بن جبير عن ابن عباس - رضي الله عنه - يقول الله تعالى لنبيه محمد - صلى الله عليه وسلم - \"قل إن كانت لكم الدار الآخرة عند الله خالصة من دون الناس فتمنوا الموت إن كنتم صادقين\" أي ادعوا بالموت على أي الفريقين أكذب فأبوا ذلك على رسول الله - صلى الله عليه وسلم -.'},\n",
       "  {'verses': {'2:94': {'id': 101}},\n",
       "   'resource_id': 16,\n",
       "   'resource_name': 'المیسر',\n",
       "   'language_id': 9,\n",
       "   'slug': 'ar-tafsir-muyassar',\n",
       "   'translated_name': {'name': 'Tafsir Muyassar', 'language_name': 'english'},\n",
       "   'text': 'قل -أيها الرسول- لليهود الذين يدَّعون أن الجنة خاصة بهم؛ لزعمهم أنهم أولياء الله من دون الناس، وأنهم أبناؤه وأحباؤه: إن كان الأمر كذلك فادْعُوا على الكاذبين منكم أو من غيركم بالموت، إن كنتم صادقين في دعواكم هذه.'},\n",
       "  {'verses': {'2:94': {'id': 101}},\n",
       "   'resource_id': 92,\n",
       "   'resource_name': 'Arabic Tanweer Tafseer',\n",
       "   'language_id': 9,\n",
       "   'slug': 'ar-tafseer-tanwir-al-miqbas',\n",
       "   'translated_name': {'name': 'Tafseer Tanwir al-Miqbas',\n",
       "    'language_name': 'english'},\n",
       "   'text': 'إبطال لدعوى قارة في نفوسهم اقتضاها قولهم : { نؤمن بما أنزل علينا } [ البقرة : 91 ] الذي أرادوا به الاعتذار عن إعراضهم عن دعوة محمد صلى الله عليه وسلم بعذر أنهم متصلبون في التمسك بالتوراة لا يعدونها وأنهم بذلك استحقوا محبة الله إياهم وتكون الآخرة لهم فلما أبطلت دعوى إيمانهم بما أنزل عليهم بإلزامهم الكذب في دعواهم بسند ما أتاه سلفهم وهم جدودهم من الفظائع مع أنبيائهم والخروج عن أوامر التوراة بالإشراك بالله تعالى بعبادة العجل ، عقب ذلك بإبطال ما في عقائدهم من أنهم أهل الانفراد برحمة الله ما داموا متمسكين بالتوراة وأن من خالفها لا يكون له حظ في الآخرة ، وارتكب في إبطال اعتقادهم هذا طريقة الإحالة على ما عقدوا عليه اعتقادهم من الثقة بحسن المصير أو على شكهم في ذلك فإذا ثبت لديهم شكهم في ذلك علموا أن إيمانهم بالتوراة غير ثابت على حقه وذلك أشد ما يفت في أعضادهم ويسقط في أيديهم لأن ترقب الحظ الأخروي أهم ما يتعلق به المعتقد المتدين فإن تلك هي الحياة الدائمة والنعيم المقيم .وقد قيل : إن هذه الآية رد لدعوى أخرى صدرت من اليهود تدل على أنهم يجعلون الجنة خاصة بهم مثل قولهم نحن { أبناء الله وأحباؤه } [ المائدة : 18 ] وقولهم { لن يدخل الجنة إلا من كان هوداً } [ البقرة : 111 ] ، وإلى هذا مال القرطبي والبيضاوي ، وعليه فيكون ذكر الرد عليهم بينا لمجرد المناسبة في رد معتقد لهم باطل أيضاً لا في خصوص الغرض المسوق فيه الآيات المتقدمة بناءً على أن الآيات لا يلزم أن تكون متناسبة تمام المناسبة ، ونحن لا نساعد على ذلك فعلى هذا الوجه تكون هاته الآية هنا نزلت مع سوابقها للرد على أقوالهم المتفرقة المحكية في آيات أخرى وإنما اتصلت مع الآيات الراجعة إلى رد دعواهم الإيمان بما أنزل عليهم للمناسبة بجمع رد جميع دعاويهم ولكن فيما ذكرناه غنية . وأيّاً ما كان فهذه الآية تحدت اليهود كما تحدى القرآن مشركي العرب بقوله : { فأتوا بسورة من مثله } [ البقرة : 23 ] . وإنما فصلت هاته الجملة عما قبلها لاختلاف السياق لأن هذه الآية إلقاء حجة عليهم والآيات السابقة تفظيع لأحوالهم وإن كان في كل من ذلك احتجاج لكن الانتقال من أسلوب إلى أسلوب كان محسناً للفصل دون العطف لا سيما مع افتتاح الاحتجاج بقل .والكلام في { لكم } مشعر بأن المراد من الدار الآخرة نعيمها و { لكم } خبر { كانت } قدم للحصر بناء على اعتقادهم كتقديمه في قول الكميت يمدح هشاماً بن عبد الملك حين عفا عنه من قصيدة :لكم مسجداً الله المزوران والحصى ... لكم قبضة من بين أثري وأقتراو { عند الله } ظرف متعلق بكانت والعندية عندية تشريف وادخار أي مدخرة لكم عند الله وفي ذلك إيذان بأن الدار الآخرة مراد بها الجنة .وانتصب { خالصة } على الحال من اسم ( كان ) ولا وجه لتوقف بعض النحاة في مجيء الحال من اسم ( كان ) . ومعنى الخالصة السالمة من مشاركة غيركم لكم فيها فهو يؤول إلى معنى خاصة بكم .وقوله : { من دون الناس } دون في الأصل ظرف للمكان الأقرب من مكان آخر غير متصرف وهو مجاز في المفارقة فلذلك تدل على تخالف الأوصاف أو الأحوال ، تقول هذا لك دون زيد أي لاحق لزيد فيه فقوله : { من دون الناس } توكيد لمعنى الاختصاص المستفاد من تقديم الخبر ومن قوله : { خالصة } لدفع احتمال أن يكون المراد من الخلوص الصفاء من المشارك في درجاتهم مع كونه له حظ من النعيم . والمراد من الناس جميع الناس فاللام فيه للاستغراق لأنهم قالوا : { لن يدخل الجنة إلا من كان هوداً } [ البقرة : 111 ] .وقوله : { فتمنوا الموت } جواب الشرط ووجه الملازمة بين الشرط وهو أن الدار الآخرة لهم وجزائه وهو تمني الموت أن الدار الآخرة لا يخلص أحد إليها إلا بالروح حين تفارق جسده ومفارقة الروح الجسد هو الموت فإذا كان الموت هو سبب مصيرهم إلى الخيرات كان الشأن أن يتمنوا حلوله كما كان شأن أصحاب النبيء صلى الله عليه وسلم كما قال عمير بن الحمام رضي الله عنه :جرياً إلى الله بغير زاد ... إلا التقى وعملَ المعادوارتجز جعفر بن أبي طالب يوم غزوة مؤتة حين اقتحم على المشركين بقوله :يا حبذا الجنةُ واقترابُها ... طيبة وبارد شرابهاوقال عبد الله بن رواحة عند خروجه إلى غزوة مؤتة ودعا المسلمون له ولمن معه أن يردهم الله سالمين :لكني أسأل الرحمان مغفرةً ... وضربةً ذات فرغ تقذف الزبداأو طعنةً من يدي حران مُجهِزة ... بحربة تُنفِذُ الأحشاءَ والكبداحتى يقولوا إذا مروا على جدثي ... أرشدك الله من غاز وقد رشدا'},\n",
       "  {'verses': {'2:94': {'id': 101}},\n",
       "   'resource_id': 93,\n",
       "   'resource_name': 'Arabic Waseet Tafseer',\n",
       "   'language_id': 9,\n",
       "   'slug': 'ar-tafsir-al-wasit',\n",
       "   'translated_name': {'name': 'Tafsir Al Wasit', 'language_name': 'english'},\n",
       "   'text': 'ثم أمر الله - تعالى - نبيه \" صلى الله عليه وسلم \" أن يرد على اليهود في دعواهم أن الجنة لن يدخلها إلا من كان على ملتهم فقال - تعالى - :( قُلْ إِن كَانَتْ لَكُمُ الدار الآخرة . . . )معنى الآيات الكريمة إجمالا :قل - يا محمد - لأولئك اليهود الين ادعوا أن الجنة لن يدخلها إلأا من كان هودا : إن انت الجنة مختصة بكم ، وسالمة لكم دون غيركم ، وليس لأحد سواكم فيها حق . فتمنوا الموت إن كنتم صادقين في دعواكم ، لأن من أيقن أنه من أهل الجنة اشتاق إليها وأحب الوصول إليها .ثم أخبر الله أن هذا التمني لن يحصل منهم فقال : ( وَلَنْ يَتَمَنَّوْهُ أَبَداً ) أي الموت ( بِمَا قَدَّمَتْ أَيْدِيهِمْ ) أي بسبب ما ارتكبوه من كفر ومعصية ( والله عَلِيمٌ بالظالمين ) الذين وضعوا الأمور في غير موضعها ، فادعوا ما ليس لهم ، ونفوه عمن هو لهم .ثم أخبر القرآن بأن حرصهم على الحيباة لا نظير له ولا مثيل فقال : ( وَلَتَجِدَنَّهُمْ أَحْرَصَ الناس على حَيَاةٍ ) متطاولة ( وَمِنَ الذين أَشْرَكُواْ ) أي : وأحرص عليها - أيضاًٍ - من الذين أشركوا الذين لا يعرفون إلا الحياة الدنيا ( يَوَدُّ أَحَدُهُمْ لَوْ يُعَمَّرُ أَلْفَ سَنَةٍ ) أي يتمنى الوحد من هؤلاء اليهود أن يعيش السنين الكثيرة ولو تجاوزت الحدود المعقولة لعمر الإِنسان والحال أنه ما أحد منهم بمزحزحه ومنجيه تعميره من العذاب ( والله بَصِيرٌ بِمَا يَعْمَلُون ) أي : لا يخفى عليه أعمالهم ، فهو محاسبهم عليها ، ومجازيهم بما يستحقونه من عقاب .وقوله تعالى : ( قُلْ إِن كَانَتْ لَكُمُ الدار الآخرة عِندَ الله خَالِصَةً مِّن دُونِ الناس فَتَمَنَّوُاْ الموت إِن كُنْتُمْ صَادِقِينَ ) رد على زعمهم الباطل أن الجنة لا يدخلها إلا من كان هوداً ، والمراد بالدار الآخرة : الجنة ونعيمها ، ومعنى ( خَالِصَةً ) سالمة لكم مختصة بكم ، لا يشارككم فيها أحد من الناس .قال الإِمام ابن جرير : \" يقال : خلص لي فلان بمعنى صار لي وحدي وصفا لي ، ويقال منه خلص هذا الشيء ، فهو يخلص خلوصاً وخالصة ، والخالصة مصدر مثل العافية . . \"وقوله تعالى : ( فَتَمَنَّوُاْ الموت ) التمنى هو ارتياح النفس ورغبتها القوية في الشيء . بحيث توده وتحب المصير إليه ، وهو يستعمل في المعنى القائم بالقلب كما بينا ، ويستعمل في اللفظ الدال على هذا المعنى ، كأن يقول الإِنسان بلسانه ، ليتني أحصل على كذا .والاستعمال الثاني هو المراد بقول تعالى : ( فَتَمَنَّوُاْ الموت ) أي اذكروا بألسنتكم لفظاً يدل على أنكم تحبون الموت وترغبون فيه . وإنما قلنا إن ذلك هو المراد من الآية لأن المعنى الكائن بالقلب لا يعرفه أحد سوى الله - تعالى - والتحدي لا يقع بتحصيل المعاني القائمة بالضمائر والقلوب .ومعنى الآية الكريمة . قل يا محمد لليهود : إن كانت الجنة خاصة بكم ، ولا منازع لكم فيها ولا مزاحم كما تزعمون ، فتمنوا الموت بألسنتكم لكي تظفروا بنعيمها الدائم ، إن كنتم صادقين في دعواكم أنها خالصة لكم ، وإلا فإنكم لا تكونون صادقين في دعواكم ، إذ لا يقعل أن يرغب الإِنسان عن السعادة المحضة الدائمة المضمونة له في الآخرة ، إلى سعادة ممزجة بالشقاء في الدنيا .قال الإِمام الرازي : ( وبيان هذه الملازمة أن نعم الدنيا قليلة حقيرة بالقياس إلى نعم الآخرة . ثم إن نعم الدنيا على قلتهها كانت منغصة عليهم بسبب ظهور محمد صلى الله عليه وسلم ومنازعته معهم ، بالجدال والقتال ، ومن كان في النعم القليلة المنغصة . ثم تيقن أنه بعد الموت لابد أن ينتقل إلى تلك النعم العظيمة مطلوبة ولا سبيل إليها إلا الموت وحيث كان الموت يتوقف عليه المطلوب وجب أن يكون هذا الإِنسان راضياً بالموت متمنياً له ، فثبت أن الدار الآخرة لو كانت خالصة لهم ، لوجب أن يتمنوا الموت . ثم إن الله - تعالى - أخبر أنهم ما تمنوا الموت ، بل لن يتمنوه أبداً ، وحينئذ يلزم قطعاً بطلان ادعائها في قولهم : \" إن الدار الآخرة خالصة لهم من دون الناس \" .وتحديهم بتمنى الموت يكون بأن يقولوا بألسنتهم ليتنا نموت ، أو يقولوا ما في معنى هذه الكلمة كما أشرنا إلى ذلك سابقاً ، وهذا رأي جمهور المفسرين .وروى عن ابن عباس - رضي الله عنهما - أن ذلك يكون عن طريق المباهلة ، بأن يحضروا مع المؤمنين في صعيد واحد ، ثم يدعو الفريقان بالموت على الكاذب منهما .ويبدو لنا أن الرأى الأول أرجح لأنه أقرب إلى موافقة اللفظ الذي نطقت به الآية وأقرب أيضاً إلى معناها . إذ ليس في الآية إشارة ما إلى طلب المباهلة ، والقرآن حينما دعا إليها نصارى نجران ، جاء اللفظ بها صريحاً في قوله تعالى : ( فَمَنْ حَآجَّكَ فِيهِ مِن بَعْدِ مَا جَآءَكَ مِنَ العلم فَقُلْ تَعَالَوْاْ نَدْعُ أَبْنَاءَنَا وَأَبْنَآءَكُمْ وَنِسَآءَنَا وَنِسَآءَكُمْ وَأَنْفُسَنَا وأَنْفُسَكُمْ ثُمَّ نَبْتَهِلْ فَنَجْعَل لَّعْنَتَ الله عَلَى الكاذبين )'},\n",
       "  {'verses': {'2:94': {'id': 101}},\n",
       "   'resource_id': 15,\n",
       "   'resource_name': 'الطبري',\n",
       "   'language_id': 9,\n",
       "   'slug': 'ar-tafsir-al-tabari',\n",
       "   'translated_name': {'name': 'Tafsir al-Tabari', 'language_name': 'english'},\n",
       "   'text': 'القول في تأويل قوله تعالى :  قُلْ إِنْ كَانَتْ لَكُمُ الدَّارُ الآخِرَةُ عِنْدَ اللَّهِ خَالِصَةً مِنْ دُونِ النَّاسِ فَتَمَنَّوُا الْمَوْتَ إِنْ كُنْتُمْ صَادِقِينَ (94)قال أبو جعفر: وهذه الآية مما احتج الله بها لنبيه محمد صلى الله عليه وسلم على اليهود الذين كانوا بين ظهراني مهاجره, وفضح بها أحبارهم وعلماءهم. وذلك أن الله جل ثناؤه أمر نبيه صلى الله عليه وسلم أن يدعوهم إلى قضية عادلة بينه وبينهم، فيما كان بينه وبينهم من الخلاف. كما أمره الله أن يدعو الفريق الآخر من النصارى - إذ خالفوه في عيسى صلوات الله عليه وجادلوا فيه - إلى فاصلة بينه وبينهم من المباهلة. (1) وقال لفريق اليهود: إن كنتم محقين فتمنوا الموت, فإن ذلك غير ضاركم، إن كنتم محقين فيما تدعون من الإيمان وقرب المنـزلة &; 2-362 &; من الله. بل إن أعطيتم أمنيتكم من الموت إذا تمنيتم، فإنما تصيرون إلى الراحة من تعب الدنيا ونصبها وكدر عيشها، والفوز بجوار الله في جنانه, إن كان الأمر كما تزعمون: من أن الدار الآخرة لكم خالصة دوننا. وإن لم تعطوها علم الناس أنكم المبطلون ونحن المحقون في دعوانا، وانكشف أمرنا وأمركم لهم. فامتنعت اليهود من إجابة النبي صلى الله عليه وسلم إلى ذلك، لعلمها أنها تمنت الموت هلكت، فذهبت دنياها، وصارت إلى خزي الأبد في آخرتها. كما امتنع فريق النصارى - الذين جادلوا النبي صلى الله عليه وسلم في عيسى ، إذْ دعوا إلى المباهلة - من المباهلة.فبلغنا أن رسول الله صلى الله عليه وسلم قال: \" لو أن اليهود تمنوا الموت لماتوا، ولرأوا مقاعدهم من النار. ولو خرج الذين يباهلون رسول الله صلى الله عليه وسلم، لرجعوا لا يجدون أهلا ولا مالا \".1566 - حدثنا بذلك أبو كريب قال، حدثنا زكريا بن عدي قال، حدثنا عبيد الله بن عمرو, عن عبد الكريم, عن عكرمة, عن ابن عباس, عن رسول الله صلى الله عليه وسلم. (2)&; 2-363 &;1567 - حدثنا أبو كريب قال، حدثنا عثام بن علي, عن الأعمش, عن ابن عباس في قوله: (فتمنوا الموت إن كنتم صادقين)، قال: لو تمنوا الموت لشرق أحدهم بريقه. (3)1568 - حدثنا الحسن بن يحيى قال، أخبرنا عبد الرزاق قال، أخبرنا معمر, عن عبد الكريم الجزري, عن عكرمة في قوله: (فتمنوا الموت إن كنتم صادقين)، قال: قال ابن عباس: لو تمنى اليهود الموت لماتوا. (4)1569 - حدثني موسى قال، أخبرنا عمرو قال، حدثنا أسباط, عن السدي, عن ابن عباس مثله.1570 - حدثنا ابن حميد قال، حدثنا سلمة قال، حدثني ابن إسحاق قال، حدثني محمد بن أبي محمد - قال أبو جعفر: فيما أروي: أنبأنا - عن سعيد، أو عكرمة, عن ابن عباس قال: لو تمنوه يوم قال ذلك لهم, ما بقي على ظهر الأرض يهودي إلا مات. (5)قال أبو جعفر: فانكشف - لمن كان مشكلا عليه أمر اليهود يومئذ - كذبهم وبهتهم وبغيهم على رسول الله صلى الله عليه وسلم, وظهرت حجة رسول الله وحجة أصحابه عليهم, ولم تزل والحمد لله ظاهرة عليهم وعلى غيرهم من سائر أهل الملل.&; 2-364 &;وإنما أُمر رسول الله صلى الله عليه وسلم أن يقول لهم: (تمنوا الموت إن كنتم صادقين)، لأنهم -فيما ذكر لنا- قالوا:  نَحْنُ أَبْنَاءُ اللَّهِ وَأَحِبَّاؤُهُ  [المائدة: 18]، وقالوا:  لَنْ يَدْخُلَ الْجَنَّةَ إِلا مَنْ كَانَ هُودًا أَوْ نَصَارَى  [البقرة: 111]. فقال الله لنبيه محمد صلى الله عليه وسلم: قل لهم إن كنتم صادقين فيما تزعمون، فتمنوا الموت. فأبان الله كذبهم بامتناعهم من تمني ذلك, وأفلج حجة رسول الله صلى الله عليه وسلم.* * *وقد اختلف أهل التأويل في السبب الذي من أجله أمر الله نبيه صلى الله عليه وسلم أن يدعو اليهود أن يتمنوا الموت, وعلى أي وجه أمروا أن يتمنوه. فقال بعضهم: أمروا أن يتمنوه على وجه الدعاء على الفريق الكاذب منهما.* ذكر من قال ذلك:1571 - حدثنا ابن حميد قال، حدثنا سلمة قال، حدثني ابن إسحاق قال، حدثني محمد بن أبي محمد, عن سعيد، أو عكرمة, عن ابن عباس قال: قال الله لنبيه صلى الله عليه وسلم: (قل إن كانت لكم الدار الآخرة عند الله خالصة من دون الناس فتمنوا الموت إن كنتم صادقين)، أي: ادعوا بالموت على أي الفريقين أكذب. (6)* * *وقال آخرون بما:-1572 - حدثني بشر بن معاذ قال، حدثنا يزيد بن زريع قال، حدثنا سعيد, عن قتادة قوله: (قل إن كانت لكم الدار الآخرة عند الله خالصة من دون الناس)، وذلك أنهم قالوا:  لَنْ يَدْخُلَ الْجَنَّةَ إِلا مَنْ كَانَ هُودًا أَوْ نَصَارَى  [البقرة: 111]، وقالوا:  نَحْنُ أَبْنَاءُ اللَّهِ وَأَحِبَّاؤُهُ  [المائدة: 18] فقيل لهم: (فتمنوا الموت إن كنتم صادقين).1573 - حدثني المثنى قال، حدثنا آدم قال، حدثنا أبو جعفر, عن &; 2-365 &; الربيع, عن أبي العالية قال: قالت اليهود: (لن يدخل الجنة إلا من كان هودا أو نصارى)، وقالوا:  نَحْنُ أَبْنَاءُ اللَّهِ وَأَحِبَّاؤُهُ  فقال الله: (قل إن كانت لكم الدار الآخرة عند الله خالصة من دون الناس فتمنوا الموت إن كنتم صادقين)، فلم يفعلوا.1574 - حدثني المثنى قال، حدثنا إسحاق قال، حدثني ابن أبي جعفر, عن أبيه، عن الربيع قوله: (قل إن كانت لكم الدار الآخرة عند الله خالصة) الآية, وذلك بأنهم قالوا:  لَنْ يَدْخُلَ الْجَنَّةَ إِلا مَنْ كَانَ هُودًا أَوْ نَصَارَى ، وقالوا:  نَحْنُ أَبْنَاءُ اللَّهِ وَأَحِبَّاؤُهُ . (7)* * *وأما تأويل قوله: (قل إن كانت لكم الدار الآخرة عند الله خالصة)، فإنه يقول: قل يا محمد: إن كان نعيم الدار الآخرة ولذاتها لكم يا معشر اليهود عند الله. فاكتفى بذكر \" الدار \"، من ذكر نعيمها، لمعرفة المخاطبين بالآية معناها. وقد بينا معنى \" الدار الآخرة \". فيما مضى بما أغنى عن إعادته في هذا الموضع. (8)* * *وأما تأويل قوله: (خالصة)، فإنه يعني به: صافية. كما يقال: \" خلص لي فلان \" بمعنى صار لي وحدي وصفا لي. يقال منه: \" خلص لي هذا الشيء فهو يخلص خلوصا وخالصة, و \" الخالصة \" مصدر مثل \" العافية \". ويقال للرجل: \" هذا خُلْصاني\", يعني خالصتي من دون أصحابي.* * *وقد روي عن ابن عباس أنه كان يتأول قوله: (خالصة): خاصة. وذلك تأويل قريب من معنى التأويل الذي قلناه في ذلك.1575 - حدثنا أبو كريب قال، حدثنا عثمان بن سعيد قال، حدثنا بشر بن عمارة, عن أبي روق, عن الضحاك، عن ابن عباس: (قل إن كانت لكم &; 2-366 &; الدار الآخرة)، قال: \" قل \" يا محمد لهم - يعني اليهود -: إن كانت لكم الدار الآخرة \" - يعني: الجنة (9) -(عند الله خالصة)، يقول: خاصة لكم.* * *وأما قوله: (من دون الناس)، فإن الذي يدل عليه ظاهر التنـزيل أنهم قالوا: لنا الدار الآخرة عند الله خالصة من دون جميع الناس. ويبين أن ذلك كان قولهم - من غير استثناء منهم من ذلك أحدا من بني آدم - إخبار الله عنهم أنهم قالوا:  لَنْ يَدْخُلَ الْجَنَّةَ إِلا مَنْ كَانَ هُودًا أَوْ نَصَارَى ، إلا أنه روي عن ابن عباس قول غير ذلك:1576 - حدثنا أبو كريب قال، حدثنا عثمان بن سعيد قال، حدثنا بشر بن عمارة, عن أبي روق, عن الضحاك, عن ابن عباس: (من دون الناس)، يقول: من دون محمد صلى الله عليه وسلم وأصحابه الذين استهزأتم بهم, وزعمتم أن الحق في أيديكم, وأن الدار الآخرة لكم دونهم.* * *وأما قوله: (فتمنوا الموت) فإن تأويله: تشهوه وأريدوه. وقد روي عن ابن عباس أنه قال في تأويله: فسلوا الموت. ولا يعرف \" التمني\" بمعنى \" المسألة \" في كلام العرب. ولكن أحسب أن ابن عباس وجه معنى \" الأمنية \" - إذ كانت محبة النفس وشهوتها - إلى معنى الرغبة والمسألة, إذْ كانت المسألة، هي رغبة السائل إلى الله فيما سأله.1577 - حدثنا أبو كريب قال، حدثنا عثمان بن سعيد قال، حدثنا بشر بن عمارة, عن أبي روق, عن الضحاك عن ابن عباس: (فتمنوا الموت)، فسلوا الموت، (إن كنتم صادقين).-------------------الهوامش :(1) وذلك ما جاء في سورة آل عمران : 61 ، وانظر خبره في التفسير والسير .(2) الحديث : 1566 - إسناده صحيح . أبو كريب : هو محمد بن العلاء . زكريا بن عدي ابن زريق التيمي الكوفي : ثقة جليل ورع قال ابن سعد : \" كان رجلا صالحا صدوقا\" . وهو مترجم في التهذيب ، وفي الكبير للبخاري 2 /1 / 387 - 388 ، والصغير : 232 ، وابن سعد 6 : 284 ، وابن أبي حاتم 1/2/600 ، ووقع هنا في المطبوعة\"أبو زكريا\" وزيادة\"أبو\" خطأ من ناسخ أو طابع ، عبيد الله بن عمرو : هو أبو وهب الجزري الرقي ، ثقة معروف أخرج له أصحاب الكتب الستة ، وترجمته في التهذيب ، وابن سعد 7 /2 /182 ، والصغير للبخاري : 203 ، وابن أبي حاتم 2 /2 / 328 - 329 . عبد الكريم : هو ابن مالك الجزري الحراني ، وهو ثقة ثبت صاحب سنة ، من شيوخ ابن جريج ومالك والثوري وأضرابهم . ترجمته في التهذيب ، والصغير للبخاري : 148 ، وابن أبي حاتم 3 / 1 /58 - 59 .والحديث رواه أحمد في المسند : 2226 ، عن أحمد بن عبد الملك الحراني ، عن عبيد الله ، وهو ابن عمرو ، بهذا الإسناد ، ولكن لم يذكر لفظه ، أحاله على الرواية قبله : 2225 ، من طريق فرات بن سلمان الحضرمي ، عن عبد الكريم ، به ، بزيادة في أوله . وذكره الهيثمي في مجمع الزوائد 8 : 228 ، عن الرواية المطولة ، وقال : \"في الصحيح طرف من أوله\" ، ثم قال : \"رواه أحمد ، أبو يعلى ، ورجال أبي يعلى رجال الصحيح\" . أقول : ورجال أحمد في الإسناد : 2226 - رجال الصحيح أيضًا . وذكر السيوطي 1 : 89 بعضه ، ونسبه أيضًا إلى الشيخين ، والترمذي ، والنسائي ، وابن مردويه ، وأبي نعيم .(3) الخبر : 1567 - هو موقوف على ابن عباس ، في معنى الحديث قبله . ولكن إسناده هذا منقطع . الأعمش : لم يدرك ابن عباس .(4) الخبر : 1568- هو بعض الحديث السابق : 1566 ، وإسناده صحيح . وظاهره هنا أنه موقوف على ابن عباس ، ولكنه مرفوع بالروايات الأخر .(5) الأثر : 1570 - في ابن هشام 2 : 191 .(6) الأثر : 1571 - في سيرة ابن هشام 2 : 191 ، وفيها : \"أكذب عند الله\" ، وانظر رقم : 1578 .(7) الأثر : 1574 - في المطبوعة\" . . حدثنا إسحاق قال حدثني أبو جعفر عن الربيع\" وهذا إسناد فاسد ، وهو كثير الدوران في التفسير ، وأقرب ذلك رقم : 1563(8) انظر ما سلف 1 : 245 .'},\n",
       "  {'verses': {'2:94': {'id': 101}},\n",
       "   'resource_id': 90,\n",
       "   'resource_name': 'Arabic Qurtubi Tafseer',\n",
       "   'language_id': 9,\n",
       "   'slug': 'ar-tafseer-al-qurtubi',\n",
       "   'translated_name': {'name': 'Tafseer Al Qurtubi',\n",
       "    'language_name': 'english'},\n",
       "   'text': 'قوله تعالى : قل إن كانت لكم الدار الآخرة عند الله خالصة من دون الناس فتمنوا الموت إن كنتم صادقين ولن يتمنوه أبدا بما قدمت أيديهم والله عليم بالظالمين لما ادعت اليهود دعاوى باطلة حكاها الله عز وجل عنهم في كتابه ، كقوله تعالى : لن تمسنا النار إلا أياما معدودة ، وقوله : وقالوا لن يدخل الجنة إلا من كان هودا أو نصارى وقالوا : نحن أبناء الله وأحباؤه أكذبهم الله عز وجل وألزمهم الحجة فقال قل لهم يا محمد : إن كانت لكم الدار الآخرة يعني الجنة . فتمنوا الموت إن كنتم صادقين في أقوالكم ; لأن من اعتقد أنه من أهل الجنة كان الموت أحب إليه من الحياة في الدنيا ، لما يصير إليه من نعيم الجنة ، ويزول عنه من أذى الدنيا ، فأحجموا عن تمني ذلك فرقا من الله لقبح أعمالهم ومعرفتهم بكفرهم في قولهم : نحن أبناء الله وأحباؤه وحرصهم على الدنيا ، ولهذا قال تعالى مخبرا عنهم بقوله الحق : ولن يتمنوه أبدا بما قدمت أيديهم والله عليم بالظالمين تحقيقا لكذبهم . وأيضا لو تمنوا الموت لماتوا ، كما روي عن النبي صلى الله عليه وسلم أنه قال : لو أن اليهود تمنوا الموت لماتوا ورأوا مقامهم من النار . وقيل : إن الله صرفهم عن إظهار التمني ، وقصرهم على الإمساك ليجعل ذلك آية لنبيه صلى الله عليه وسلم ، فهذه ثلاثة أوجه في تركهم التمني . وحكى عكرمة عن ابن عباس في قوله : فتمنوا الموت أن المراد ادعوا بالموت على أكذب الفريقين منا ومنكم ، فما دعوا لعلمهم بكذبهم .فإن قيل : فالتمني يكون باللسان تارة وبالقلب أخرى ، فمن أين علم أنهم لم يتمنوه بقلوبهم ؟ قيل له : نطق القرآن بذلك بقوله ولن يتمنوه أبدا ولو تمنوه بقلوبهم لأظهروه بألسنتهم ردا على النبي صلى الله عليه وسلم وإبطالا لحجته ، وهذا بين .قوله تعالى : خالصة نصب على خبر كان ، وإن شئت كان حالا ويكون عند الله في موضع الخبر . أبدا ظرف زمان يقع على القليل والكثير ، كالحين والوقت ، وهو هنا من أول العمر إلى الموت . وما في قوله بما بمعنى الذي والعائد محذوف ، والتقدير قدمته ، وتكون مصدرية ولا تحتاج إلى عائد . وأيديهم في موضع رفع ، حذفت الضمة من [ ص: 34 ] الياء لثقلها مع الكسرة ، وإن كانت في موضع نصب حركتها ; لأن النصب خفيف ، ويجوز إسكانها في الشعر . والله عليم بالظالمين ابتداء وخبر .'},\n",
       "  {'verses': {'2:94': {'id': 101}},\n",
       "   'resource_id': 91,\n",
       "   'resource_name': 'Arabic Saddi Tafseer',\n",
       "   'language_id': 9,\n",
       "   'slug': 'ar-tafseer-al-saddi',\n",
       "   'translated_name': {'name': 'Tafseer Al Saddi', 'language_name': 'english'},\n",
       "   'text': 'أي: { قُلْ } لهم على وجه تصحيح دعواهم: { إِنْ كَانَتْ لَكُمُ الدَّارُ الْآخِرَةُ } يعني الجنة { خَالِصَةً مِنْ دُونِ النَّاسِ } كما زعمتم, أنه لن يدخل الجنة إلا من كان هودا أو نصارى, وأن النار لن تمسهم إلا أياما معدودة، فإن كنتم صادقين بهذه الدعوى { فَتَمَنَّوُا الْمَوْتَ } وهذا نوع مباهلة بينهم وبين رسول الله صلى الله عليه وسلم. وليس بعد هذا الإلجاء والمضايقة لهم بعد العناد منهم, إلا أحد أمرين: إما أن يؤمنوا بالله ورسوله، وإما أن يباهلوا على ما هم عليه بأمر يسير عليهم, وهو تمني الموت الذي يوصلهم إلى الدار التي هي خالصة لهم, فامتنعوا من ذلك. فعلم كل أحد أنهم في غاية المعاندة والمحادة لله ولرسوله, مع علمهم بذلك، ولهذا قال تعالى { وَلَنْ يَتَمَنَّوْهُ أَبَدًا بِمَا قَدَّمَتْ أَيْدِيهِمْ } من الكفر والمعاصي, لأنهم يعلمون أنه طريق لهم إلى المجازاة بأعمالهم الخبيثة، فالموت أكره شيء إليهم, وهم أحرص على الحياة من كل أحد من الناس, حتى من المشركين الذين لا يؤمنون بأحد من الرسل والكتب. ثم ذكر شدة محبتهم للدنيا فقال: { يَوَدُّ أَحَدُهُمْ لَوْ يُعَمَّرُ أَلْفَ سَنَةٍ } وهذا أبلغ ما يكون من الحرص, تمنوا حالة هي من المحالات، والحال أنهم لو عمروا العمر المذكور, لم يغن عنهم شيئا ولا دفع عنهم من العذاب شيئا. { وَاللَّهُ بَصِيرٌ بِمَا يَعْمَلُونَ } تهديد لهم على المجازاة بأعمالهم.'},\n",
       "  {'verses': {'2:94': {'id': 101}},\n",
       "   'resource_id': 94,\n",
       "   'resource_name': 'Arabic Baghawy Tafseer',\n",
       "   'language_id': 9,\n",
       "   'slug': 'ar-tafsir-al-baghawi',\n",
       "   'translated_name': {'name': 'Tafseer Al-Baghawi',\n",
       "    'language_name': 'english'},\n",
       "   'text': 'قوله تعالى: {قل إن كانت لكم الدار الآخرة عند الله} وذلك أن اليهود ادعوا دعاوى باطلة مثل قولهم {لن تمسنا النار إلا أياماً معدودة} [80-البقرة]، {وقالوا لن يدخل الجنة إلا من كان هوداً أو نصارى} [111-البقرة]، وقولهم {نحن أبناء الله وأحباؤه} [18-المائدة]، فكذبهم الله عز وجل وألزمهم الحجة فقال: قل لهم يا محمد (إن كانت لكم الدار الآخرة عند الله) يعني الجنة عند الله:{خالصة} أي خاصة.{من دون الناس فتمنوا الموت} أي فأريدوه واسألوه لأن من علم أن الجنة مأواه حن إليها ولا سبيل إلى دخولها إلا بعد الموت فاستعجلوه بالتمني.وقيل: فتمنوا الموت أي ادعوا بالموت على الفرقة الكاذبة. وروي عن ابن عباس: أن النبي صلى الله عليه وسلم قال: \" لو تمنوا الموت لغص كل إنسان منهم بريقه وما بقي على وجه الأرض يهودي إلا مات\".{إن كنتم صادقين} في قولكم.'}]}"
      ]
     },
     "execution_count": 56,
     "metadata": {},
     "output_type": "execute_result"
    }
   ],
   "source": [
    "q[100]"
   ]
  },
  {
   "cell_type": "code",
   "execution_count": 158,
   "metadata": {},
   "outputs": [
    {
     "data": {
      "text/html": [
       "<div>\n",
       "<style scoped>\n",
       "    .dataframe tbody tr th:only-of-type {\n",
       "        vertical-align: middle;\n",
       "    }\n",
       "\n",
       "    .dataframe tbody tr th {\n",
       "        vertical-align: top;\n",
       "    }\n",
       "\n",
       "    .dataframe thead th {\n",
       "        text-align: right;\n",
       "    }\n",
       "</style>\n",
       "<table border=\"1\" class=\"dataframe\">\n",
       "  <thead>\n",
       "    <tr style=\"text-align: right;\">\n",
       "      <th></th>\n",
       "      <th>text</th>\n",
       "      <th>resource_name</th>\n",
       "      <th>verses_keys</th>\n",
       "    </tr>\n",
       "  </thead>\n",
       "  <tbody>\n",
       "    <tr>\n",
       "      <th>0</th>\n",
       "      <td>بسم الله الرحمن الرحيم سورة الفاتحة . يقال لها...</td>\n",
       "      <td>ابن كثير</td>\n",
       "      <td>1:1</td>\n",
       "    </tr>\n",
       "    <tr>\n",
       "      <th>1</th>\n",
       "      <td>سورة الفاتحة سميت هذه السورة بالفاتحة؛ لأنه يف...</td>\n",
       "      <td>المیسر</td>\n",
       "      <td>1:1</td>\n",
       "    </tr>\n",
       "    <tr>\n",
       "      <th>2</th>\n",
       "      <td>البسملة اسم لكلمة باسم الله، صيغ هذا الاسم على...</td>\n",
       "      <td>Arabic Tanweer Tafseer</td>\n",
       "      <td>1:1</td>\n",
       "    </tr>\n",
       "    <tr>\n",
       "      <th>3</th>\n",
       "      <td>{ بسم ٱلله الرَّحْمٰنِ الرَّحِيـمِ }الاسم: الل...</td>\n",
       "      <td>Arabic Waseet Tafseer</td>\n",
       "      <td>1:1</td>\n",
       "    </tr>\n",
       "    <tr>\n",
       "      <th>4</th>\n",
       "      <td>بسمالقول في تأويل { بسم} قال أبو جعفر : إن الل...</td>\n",
       "      <td>الطبري</td>\n",
       "      <td>1:1</td>\n",
       "    </tr>\n",
       "    <tr>\n",
       "      <th>...</th>\n",
       "      <td>...</td>\n",
       "      <td>...</td>\n",
       "      <td>...</td>\n",
       "    </tr>\n",
       "    <tr>\n",
       "      <th>49883</th>\n",
       "      <td>وقوله : ( مِنَ الجنة والناس ) زيادة بيان للذى ...</td>\n",
       "      <td>Arabic Waseet Tafseer</td>\n",
       "      <td>114:6</td>\n",
       "    </tr>\n",
       "    <tr>\n",
       "      <th>49884</th>\n",
       "      <td>وقوله: ( الَّذِي يُوَسْوِسُ فِي صُدُورِ النَّا...</td>\n",
       "      <td>الطبري</td>\n",
       "      <td>114:6</td>\n",
       "    </tr>\n",
       "    <tr>\n",
       "      <th>49885</th>\n",
       "      <td>قوله تعالى : من الجنة والناس أخبر أن الموسوس ق...</td>\n",
       "      <td>Arabic Qurtubi Tafseer</td>\n",
       "      <td>114:6</td>\n",
       "    </tr>\n",
       "    <tr>\n",
       "      <th>49886</th>\n",
       "      <td>وهذه السورة مشتملة على الاستعاذة برب الناس وما...</td>\n",
       "      <td>Arabic Saddi Tafseer</td>\n",
       "      <td>114:6</td>\n",
       "    </tr>\n",
       "    <tr>\n",
       "      <th>49887</th>\n",
       "      <td>( من الجنة والناس ) يعني يدخل في الجني كما يدخ...</td>\n",
       "      <td>Arabic Baghawy Tafseer</td>\n",
       "      <td>114:6</td>\n",
       "    </tr>\n",
       "  </tbody>\n",
       "</table>\n",
       "<p>49888 rows × 3 columns</p>\n",
       "</div>"
      ],
      "text/plain": [
       "                                                    text  \\\n",
       "0      بسم الله الرحمن الرحيم سورة الفاتحة . يقال لها...   \n",
       "1      سورة الفاتحة سميت هذه السورة بالفاتحة؛ لأنه يف...   \n",
       "2      البسملة اسم لكلمة باسم الله، صيغ هذا الاسم على...   \n",
       "3      { بسم ٱلله الرَّحْمٰنِ الرَّحِيـمِ }الاسم: الل...   \n",
       "4      بسمالقول في تأويل { بسم} قال أبو جعفر : إن الل...   \n",
       "...                                                  ...   \n",
       "49883  وقوله : ( مِنَ الجنة والناس ) زيادة بيان للذى ...   \n",
       "49884  وقوله: ( الَّذِي يُوَسْوِسُ فِي صُدُورِ النَّا...   \n",
       "49885  قوله تعالى : من الجنة والناس أخبر أن الموسوس ق...   \n",
       "49886  وهذه السورة مشتملة على الاستعاذة برب الناس وما...   \n",
       "49887  ( من الجنة والناس ) يعني يدخل في الجني كما يدخ...   \n",
       "\n",
       "                resource_name verses_keys  \n",
       "0                    ابن كثير         1:1  \n",
       "1                      المیسر         1:1  \n",
       "2      Arabic Tanweer Tafseer         1:1  \n",
       "3       Arabic Waseet Tafseer         1:1  \n",
       "4                      الطبري         1:1  \n",
       "...                       ...         ...  \n",
       "49883   Arabic Waseet Tafseer       114:6  \n",
       "49884                  الطبري       114:6  \n",
       "49885  Arabic Qurtubi Tafseer       114:6  \n",
       "49886    Arabic Saddi Tafseer       114:6  \n",
       "49887  Arabic Baghawy Tafseer       114:6  \n",
       "\n",
       "[49888 rows x 3 columns]"
      ]
     },
     "execution_count": 158,
     "metadata": {},
     "output_type": "execute_result"
    }
   ],
   "source": [
    "import pandas as pd\n",
    "\n",
    "tafsirs_pd = pd.DataFrame()\n",
    "\n",
    "tafsirs_list = []\n",
    "resource_name_list = []\n",
    "verses_keys = []\n",
    "\n",
    "for verse in q :\n",
    "    for tafsir in verse[\"tafsirs\"]:\n",
    "        tafsirs_list.append(tafsir[\"text\"].replace(\"\\r\", \"\\n\"))\n",
    "        resource_name_list.append(tafsir[\"resource_name\"])\n",
    "        verses_keys.append(\" + \".join(list(tafsir[\"verses\"].keys())))\n",
    "\n",
    "tafsirs_pd[\"text\"] = tafsirs_list\n",
    "tafsirs_pd[\"resource_name\"] = resource_name_list\n",
    "tafsirs_pd[\"verses_keys\"] = verses_keys\n",
    "\n",
    "tafsirs_pd.to_csv(\"../data/arabic_tafsirs.csv\", index=False, encoding='utf-8')\n",
    "tafsirs_pd"
   ]
  },
  {
   "cell_type": "code",
   "execution_count": 159,
   "metadata": {},
   "outputs": [
    {
     "data": {
      "text/html": [
       "<div>\n",
       "<style scoped>\n",
       "    .dataframe tbody tr th:only-of-type {\n",
       "        vertical-align: middle;\n",
       "    }\n",
       "\n",
       "    .dataframe tbody tr th {\n",
       "        vertical-align: top;\n",
       "    }\n",
       "\n",
       "    .dataframe thead th {\n",
       "        text-align: right;\n",
       "    }\n",
       "</style>\n",
       "<table border=\"1\" class=\"dataframe\">\n",
       "  <thead>\n",
       "    <tr style=\"text-align: right;\">\n",
       "      <th></th>\n",
       "      <th>text</th>\n",
       "      <th>resource_name</th>\n",
       "      <th>verses_keys</th>\n",
       "    </tr>\n",
       "  </thead>\n",
       "  <tbody>\n",
       "    <tr>\n",
       "      <th>count</th>\n",
       "      <td>49888</td>\n",
       "      <td>49888</td>\n",
       "      <td>49888</td>\n",
       "    </tr>\n",
       "    <tr>\n",
       "      <th>unique</th>\n",
       "      <td>47276</td>\n",
       "      <td>8</td>\n",
       "      <td>6453</td>\n",
       "    </tr>\n",
       "    <tr>\n",
       "      <th>top</th>\n",
       "      <td>لما كان النهي عن الجهر بالدعاء أو قراءة الصلاة...</td>\n",
       "      <td>ابن كثير</td>\n",
       "      <td>17:111 + 18:1 + 18:2 + 18:3 + 18:4 + 18:5 + 18...</td>\n",
       "    </tr>\n",
       "    <tr>\n",
       "      <th>freq</th>\n",
       "      <td>111</td>\n",
       "      <td>6236</td>\n",
       "      <td>111</td>\n",
       "    </tr>\n",
       "  </tbody>\n",
       "</table>\n",
       "</div>"
      ],
      "text/plain": [
       "                                                     text resource_name  \\\n",
       "count                                               49888         49888   \n",
       "unique                                              47276             8   \n",
       "top     لما كان النهي عن الجهر بالدعاء أو قراءة الصلاة...      ابن كثير   \n",
       "freq                                                  111          6236   \n",
       "\n",
       "                                              verses_keys  \n",
       "count                                               49888  \n",
       "unique                                               6453  \n",
       "top     17:111 + 18:1 + 18:2 + 18:3 + 18:4 + 18:5 + 18...  \n",
       "freq                                                  111  "
      ]
     },
     "execution_count": 159,
     "metadata": {},
     "output_type": "execute_result"
    }
   ],
   "source": [
    "tafsirs_pd.describe()"
   ]
  },
  {
   "cell_type": "code",
   "execution_count": 160,
   "metadata": {},
   "outputs": [
    {
     "data": {
      "text/plain": [
       "'17:111 + 18:1 + 18:2 + 18:3 + 18:4 + 18:5 + 18:6 + 18:7 + 18:8 + 18:9'"
      ]
     },
     "execution_count": 160,
     "metadata": {},
     "output_type": "execute_result"
    }
   ],
   "source": [
    "tafsirs_pd.iloc[17114][\"verses_keys\"]"
   ]
  },
  {
   "cell_type": "code",
   "execution_count": 161,
   "metadata": {},
   "outputs": [
    {
     "data": {
      "text/plain": [
       "(49888, 3)"
      ]
     },
     "execution_count": 161,
     "metadata": {},
     "output_type": "execute_result"
    }
   ],
   "source": [
    "tafsirs_pd.to_numpy().shape"
   ]
  },
  {
   "cell_type": "code",
   "execution_count": 162,
   "metadata": {},
   "outputs": [
    {
     "data": {
      "text/html": [
       "<div>\n",
       "<style scoped>\n",
       "    .dataframe tbody tr th:only-of-type {\n",
       "        vertical-align: middle;\n",
       "    }\n",
       "\n",
       "    .dataframe tbody tr th {\n",
       "        vertical-align: top;\n",
       "    }\n",
       "\n",
       "    .dataframe thead th {\n",
       "        text-align: right;\n",
       "    }\n",
       "</style>\n",
       "<table border=\"1\" class=\"dataframe\">\n",
       "  <thead>\n",
       "    <tr style=\"text-align: right;\">\n",
       "      <th></th>\n",
       "      <th>text</th>\n",
       "      <th>resource_name</th>\n",
       "      <th>verses_keys</th>\n",
       "    </tr>\n",
       "  </thead>\n",
       "  <tbody>\n",
       "    <tr>\n",
       "      <th>count</th>\n",
       "      <td>49888</td>\n",
       "      <td>49888</td>\n",
       "      <td>49888</td>\n",
       "    </tr>\n",
       "    <tr>\n",
       "      <th>unique</th>\n",
       "      <td>47276</td>\n",
       "      <td>8</td>\n",
       "      <td>6453</td>\n",
       "    </tr>\n",
       "    <tr>\n",
       "      <th>top</th>\n",
       "      <td>لما كان النهي عن الجهر بالدعاء أو قراءة الصلاة...</td>\n",
       "      <td>ابن كثير</td>\n",
       "      <td>17:111 + 18:1 + 18:2 + 18:3 + 18:4 + 18:5 + 18...</td>\n",
       "    </tr>\n",
       "    <tr>\n",
       "      <th>freq</th>\n",
       "      <td>111</td>\n",
       "      <td>6236</td>\n",
       "      <td>111</td>\n",
       "    </tr>\n",
       "  </tbody>\n",
       "</table>\n",
       "</div>"
      ],
      "text/plain": [
       "                                                     text resource_name  \\\n",
       "count                                               49888         49888   \n",
       "unique                                              47276             8   \n",
       "top     لما كان النهي عن الجهر بالدعاء أو قراءة الصلاة...      ابن كثير   \n",
       "freq                                                  111          6236   \n",
       "\n",
       "                                              verses_keys  \n",
       "count                                               49888  \n",
       "unique                                               6453  \n",
       "top     17:111 + 18:1 + 18:2 + 18:3 + 18:4 + 18:5 + 18...  \n",
       "freq                                                  111  "
      ]
     },
     "execution_count": 162,
     "metadata": {},
     "output_type": "execute_result"
    }
   ],
   "source": [
    "verif = pd.read_csv(\"../data/arabic_tafsirs.csv\")\n",
    "verif.describe()"
   ]
  },
  {
   "cell_type": "code",
   "execution_count": 163,
   "metadata": {},
   "outputs": [
    {
     "data": {
      "text/plain": [
       "(49888, 3)"
      ]
     },
     "execution_count": 163,
     "metadata": {},
     "output_type": "execute_result"
    }
   ],
   "source": [
    "verif.to_numpy().shape"
   ]
  },
  {
   "cell_type": "code",
   "execution_count": 164,
   "metadata": {},
   "outputs": [
    {
     "data": {
      "text/plain": [
       "text             الشأن في الخطاب بأمر مهم لم يسِبق للمخاطب به خ...\n",
       "resource_name                               Arabic Tanweer Tafseer\n",
       "verses_keys                                                    1:2\n",
       "Name: 10, dtype: object"
      ]
     },
     "execution_count": 164,
     "metadata": {},
     "output_type": "execute_result"
    }
   ],
   "source": [
    "tafsirs_pd.iloc[10]"
   ]
  },
  {
   "cell_type": "code",
   "execution_count": 165,
   "metadata": {},
   "outputs": [
    {
     "data": {
      "text/plain": [
       "text             الشأن في الخطاب بأمر مهم لم يسِبق للمخاطب به خ...\n",
       "resource_name                               Arabic Tanweer Tafseer\n",
       "verses_keys                                                    1:2\n",
       "Name: 10, dtype: object"
      ]
     },
     "execution_count": 165,
     "metadata": {},
     "output_type": "execute_result"
    }
   ],
   "source": [
    "verif.iloc[10]"
   ]
  },
  {
   "cell_type": "code",
   "execution_count": 166,
   "metadata": {},
   "outputs": [],
   "source": [
    "for i in range(len(tafsirs_pd)):\n",
    "    assert np.all(verif.iloc[i] == tafsirs_pd.iloc[i]), 'No match for i={}, got {} and {}'.format(i, verif.iloc[i], tafsirs_pd.iloc[i])"
   ]
  },
  {
   "cell_type": "code",
   "execution_count": 167,
   "metadata": {},
   "outputs": [
    {
     "data": {
      "text/plain": [
       "'ثم أرشد صالح - عليه السلام - إلى المعجزة الدالة على صدقه فيما يبلغه عن ربه فقال :\\n( وياقوم هذه نَاقَةُ الله لَكُمْ آيَةً . . ) أى : معجزة ، واضحة دالة على صدقى وفى إضافة كغيرها من النوق التى تستعمل فى الركوب والنحر وغيرهما . لأن الله - تعالى - قد جعلها معجزة لنبيه صالح - عليه السلام - ولم يجعلها كغيرها .\\nوقد ذكر بعض المفسرين من صفات هذه الناقة وخصائصها . ما لا يؤيده نقل صحيح ، لذا أضربنا عن كل ذلك صفحا ، ونكتفى بأن تقول : بأنها كانت ناقة ذات صفات خاصة مميزة ، تجعل قوم صالح يعلمون عن طريق هذا التمييز لها عن غيرها أنها معجزة دالة على صدق نبيهم - عليه السلام - فيما يدعوهم إليه .\\nوقوله : ( فَذَرُوهَا تَأْكُلْ في أَرْضِ الله وَلاَ تَمَسُّوهَا بسوء فَيَأْخُذَكُمْ عَذَابٌ قَرِيبٌ ) أمر لهم بعدم التعرض لها بسوء وتحذير لهم من نتائج مخالفة أمره .\\nأى : اتركوا الناقة حرة طليقة تأكل فى أرض الله الواسعة؛ ومن رزقه الذى تكفل به لكل دابة ، واحذورا أن تمسوها بشئ من السوء مهما كان قليلا ، فإنكم لو فعلتم ذلك عرضتم أنفسكم لعذاب الله العاجل القريب .\\nوالتعبير بقوله ( فَيَأْخُذَكُمْ ) بفاء التعقيب وبلفظ الأخذ ، يفيد سرعة الأخذ وشدته ، لأن أخذه - سبحانه - أليم شديد .'"
      ]
     },
     "execution_count": 167,
     "metadata": {},
     "output_type": "execute_result"
    }
   ],
   "source": [
    "prob_text = tafsirs_pd.iloc[12291].text\n",
    "prob_text"
   ]
  },
  {
   "cell_type": "code",
   "execution_count": 168,
   "metadata": {},
   "outputs": [
    {
     "data": {
      "text/plain": [
       "'ثم أرشد صالح - عليه السلام - إلى المعجزة الدالة على صدقه فيما يبلغه عن ربه فقال :\\n( وياقوم هذه نَاقَةُ الله لَكُمْ آيَةً . . ) أى : معجزة ، واضحة دالة على صدقى وفى إضافة كغيرها من النوق التى تستعمل فى الركوب والنحر وغيرهما . لأن الله - تعالى - قد جعلها معجزة لنبيه صالح - عليه السلام - ولم يجعلها كغيرها .\\nوقد ذكر بعض المفسرين من صفات هذه الناقة وخصائصها . ما لا يؤيده نقل صحيح ، لذا أضربنا عن كل ذلك صفحا ، ونكتفى بأن تقول : بأنها كانت ناقة ذات صفات خاصة مميزة ، تجعل قوم صالح يعلمون عن طريق هذا التمييز لها عن غيرها أنها معجزة دالة على صدق نبيهم - عليه السلام - فيما يدعوهم إليه .\\nوقوله : ( فَذَرُوهَا تَأْكُلْ في أَرْضِ الله وَلاَ تَمَسُّوهَا بسوء فَيَأْخُذَكُمْ عَذَابٌ قَرِيبٌ ) أمر لهم بعدم التعرض لها بسوء وتحذير لهم من نتائج مخالفة أمره .\\nأى : اتركوا الناقة حرة طليقة تأكل فى أرض الله الواسعة؛ ومن رزقه الذى تكفل به لكل دابة ، واحذورا أن تمسوها بشئ من السوء مهما كان قليلا ، فإنكم لو فعلتم ذلك عرضتم أنفسكم لعذاب الله العاجل القريب .\\nوالتعبير بقوله ( فَيَأْخُذَكُمْ ) بفاء التعقيب وبلفظ الأخذ ، يفيد سرعة الأخذ وشدته ، لأن أخذه - سبحانه - أليم شديد .'"
      ]
     },
     "execution_count": 168,
     "metadata": {},
     "output_type": "execute_result"
    }
   ],
   "source": [
    "prob_text.replace(\"\\r\", \"\\n\")"
   ]
  },
  {
   "cell_type": "code",
   "execution_count": 169,
   "metadata": {},
   "outputs": [
    {
     "data": {
      "text/plain": [
       "'( ويا قوم هذه ناقة الله لكم آية ) نصب على الحال والقطع ، وذلك أن قومه طلبوا منه أن يخرج ناقة عشراء من هذه الصخرة ، وأشاروا إلى صخرة ، فدعا صالح عليه السلام فخرجت منها ناقة وولدت في الحال ولدا مثلها ، فهذا معنى قوله : ( هذه ناقة الله لكم آية فذروها تأكل في أرض الله ) من العشب والنبات فليست عليكم مؤنتها ، ( ولا تمسوها بسوء ) ولا تصيبوها بعقر ، ( فيأخذكم ) إن قتلتموها ، ( عذاب قريب ) .'"
      ]
     },
     "execution_count": 169,
     "metadata": {},
     "output_type": "execute_result"
    }
   ],
   "source": [
    "verif.iloc[12295].text"
   ]
  },
  {
   "cell_type": "code",
   "execution_count": 154,
   "metadata": {},
   "outputs": [
    {
     "data": {
      "text/plain": [
       "text             أى : اتركوا الناقة حرة طليقة تأكل فى أرض الله ...\n",
       "resource_name                                                  NaN\n",
       "verses_keys                                                    NaN\n",
       "Name: 12295, dtype: object"
      ]
     },
     "execution_count": 154,
     "metadata": {},
     "output_type": "execute_result"
    }
   ],
   "source": [
    "verif.iloc[12295]"
   ]
  }
 ],
 "metadata": {
  "kernelspec": {
   "display_name": "Python 3.9.13 ('machine_learning')",
   "language": "python",
   "name": "python3"
  },
  "language_info": {
   "codemirror_mode": {
    "name": "ipython",
    "version": 3
   },
   "file_extension": ".py",
   "mimetype": "text/x-python",
   "name": "python",
   "nbconvert_exporter": "python",
   "pygments_lexer": "ipython3",
   "version": "3.9.13"
  },
  "orig_nbformat": 4,
  "vscode": {
   "interpreter": {
    "hash": "90d5fba511f88753fbe8cec30bbfde487a2bdcc5c4f28b6e83142be88ea44a1a"
   }
  }
 },
 "nbformat": 4,
 "nbformat_minor": 2
}
