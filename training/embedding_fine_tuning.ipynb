{
 "cells": [
  {
   "attachments": {},
   "cell_type": "markdown",
   "metadata": {},
   "source": [
    "# Imports"
   ]
  },
  {
   "cell_type": "code",
   "execution_count": 1,
   "metadata": {},
   "outputs": [],
   "source": [
    "from transformers import AutoTokenizer, AutoModel\n",
    "import torch\n",
    "from datasets import load_dataset\n",
    "from tqdm.notebook import tqdm\n",
    "\n",
    "import random"
   ]
  },
  {
   "cell_type": "code",
   "execution_count": 2,
   "metadata": {},
   "outputs": [
    {
     "data": {
      "application/vnd.jupyter.widget-view+json": {
       "model_id": "082d22218b1d4947afa134adecfc6527",
       "version_major": 2,
       "version_minor": 0
      },
      "text/plain": [
       "VBox(children=(HTML(value='<center> <img\\nsrc=https://huggingface.co/front/assets/huggingface_logo-noborder.sv…"
      ]
     },
     "metadata": {},
     "output_type": "display_data"
    }
   ],
   "source": [
    "from huggingface_hub import notebook_login\n",
    "\n",
    "notebook_login()"
   ]
  },
  {
   "attachments": {},
   "cell_type": "markdown",
   "metadata": {},
   "source": [
    "# Configs"
   ]
  },
  {
   "cell_type": "code",
   "execution_count": 3,
   "metadata": {},
   "outputs": [],
   "source": [
    "MODEL_NAME = \"intfloat/e5-small\"\n",
    "DATASET_NAME = \"M-AI-C/quran-en-tafssirs\"\n",
    "DEVICE = \"cuda\" if torch.cuda.is_available() else \"cpu\"\n",
    "\n",
    "BATCH_SIZE = 4\n",
    "LEARNING_RATE = 1e-5\n",
    "BATCH_ACCUMULATION = 24\n",
    "MAX_LENGTH = 256\n",
    "TEST_SIZE = 0.1\n",
    "EPOCHS = 10\n",
    "\n",
    "CONTRASTIVE_COLUMNS = {\"en-tafsir-ibn-kathir-text\",\n",
    "                       \"en-tafsir-maarif-text\",\n",
    "                       \"en-tafsir-mokhtasar-text\",\n",
    "                       \"en-sahih\",}"
   ]
  },
  {
   "attachments": {},
   "cell_type": "markdown",
   "metadata": {},
   "source": [
    "# Dataset"
   ]
  },
  {
   "cell_type": "code",
   "execution_count": 4,
   "metadata": {},
   "outputs": [
    {
     "name": "stderr",
     "output_type": "stream",
     "text": [
      "Found cached dataset parquet (/home/mustapha/.cache/huggingface/datasets/M-AI-C___parquet/M-AI-C--quran-en-tafssirs-6bd3437dc9c6bbbd/0.0.0/2a3b91fbd88a2c90d1dbbb32b460cf621d31bd5b05b934492fdef7d8d6f236ec)\n"
     ]
    },
    {
     "data": {
      "application/vnd.jupyter.widget-view+json": {
       "model_id": "8a611b5b919c4c58bed5749e73b7329e",
       "version_major": 2,
       "version_minor": 0
      },
      "text/plain": [
       "  0%|          | 0/1 [00:00<?, ?it/s]"
      ]
     },
     "metadata": {},
     "output_type": "display_data"
    }
   ],
   "source": [
    "# dataset = load_dataset('M-AI-C/en-tafsir-mokhtasar', split={\"train\" :'train[:98%]', \"validation\" :'train[98%:]'})\n",
    "dataset = load_dataset(DATASET_NAME)"
   ]
  },
  {
   "cell_type": "code",
   "execution_count": 5,
   "metadata": {},
   "outputs": [
    {
     "name": "stderr",
     "output_type": "stream",
     "text": [
      "Loading cached processed dataset at /home/mustapha/.cache/huggingface/datasets/M-AI-C___parquet/M-AI-C--quran-en-tafssirs-6bd3437dc9c6bbbd/0.0.0/2a3b91fbd88a2c90d1dbbb32b460cf621d31bd5b05b934492fdef7d8d6f236ec/cache-036ba0ac17ad04f2.arrow\n"
     ]
    }
   ],
   "source": [
    "def get_ayah_id(row):\n",
    "    ayah = row[\"ayah\"]\n",
    "    sorah = row[\"sorah\"]\n",
    "    ayah_id = f\"{sorah}:{ayah}\"\n",
    "\n",
    "    row[\"ayah_id\"] = ayah_id\n",
    "    return row\n",
    "\n",
    "dataset = dataset.map(get_ayah_id, batched=False)"
   ]
  },
  {
   "cell_type": "code",
   "execution_count": 6,
   "metadata": {},
   "outputs": [
    {
     "data": {
      "text/plain": [
       "{'en-ahmedali': 'O believers, ordained for you is retribution for the murdered, (whether) a free man (is guilty) of (the murder of) a free man, or a slave of a slave, or a woman of a woman. But he who is pardoned some of it by his brother should be dealt with equity, and recompense (for blood) paid with a grace. This is a concession from your Lord and a kindness. He who transgresses in spite of it shall suffer painful punishment.',\n",
       " 'en-ahmedraza': 'O People who Believe! Retribution is made obligatory for you in the matter of those killed unjustly; a freeman for a freeman, and a slave for a slave, and a female for a female; and for him who is partly forgiven by his brother, seek compensation with courtesy and make payment in proper manner; this is a relief and a mercy upon you, from your Lord; so after this, a painful punishment is for whoever exceeds the limits.',\n",
       " 'en-arberry': 'O believers, prescribed for you is retaliation, touching the slain; freeman for freeman, slave for slave, female for female. But if aught is pardoned a man by his brother, let the pursuing be honourable, and let the payment be with kindliness. That is a lightening granted you by your Lord, and a mercy; and for him who commits aggression after that -- for him there awaits a painful chastisement.',\n",
       " 'en-asad': 'O YOU who have attained to faith! Just retribution is ordained for you in cases of killing: the free for the free, and the slave for the slave, and the woman for the woman. And if something [of his guilt] is remitted to a guilty person by his brother, this [remission] shall be adhered to with fairness, and restitution to his fellow-man shall be made in a goodly manner. This is an alleviation from your Sustainer, and an act of His grace. And for him who, none the less, wilfully transgresses the bounds of what is right, there is grievous suffering in store:',\n",
       " 'en-daryabadi': 'O O Ye who believe! prescribed unto you is retaliation for the slain; the free for the free, and a bondsman for a bondsman, and a woman for a woman; yet unto whomsoever is pardoned aught by his brother, then a serving with lenity and payments with kindness. That is an alleviation from your Lord and a mercy so whosoever shall transgress thereafter, for him there shall be a torment afflictive.',\n",
       " 'en-hilali': 'O you who believe! Al-Qisas (the Law of Equality in punishment) is prescribed for you in case of murder: the free for the free, the slave for the slave, and the female for the female. But if the killer is forgiven by the brother (or the relatives, etc.) of the killed against blood money, then adhering to it with fairness and payment of the blood money, to the heir should be made in fairness. This is an alleviation and a mercy from your Lord. So after this whoever transgresses the limits (i.e. kills the killer after taking the blood money), he shall have a painful torment.',\n",
       " 'en-itani': 'O you who believe! Retaliation for the murdered is ordained upon you: the free for the free, the slave for the slave, the female for the female. But if he is forgiven by his kin, then grant any reasonable demand, and pay with good will. This is a concession from your Lord, and a mercy. But whoever commits aggression after that, a painful torment awaits him.',\n",
       " 'en-maududi': 'O Believers, the lawn of retribution has been prescribed for you in cases of murder; if a free man commits a murder, the free man shall he punished for it and a slave for a slave: likewise if a woman is guilty of murder the same shall he accountable for it. But in case the injured brother is willing to show leniency to the murderer, the blood money should he decided in accordance with the common law and the murderer should pay it in a genuine way. This is an allowance and mercy from your Lord. Now there shall be a painful torment for anyone who transgresses the limits after this. O men of understanding.',\n",
       " 'en-mubarakpuri': 'O you who believe! Al-Qisas (the Law of equality) is prescribed for you in case of murder: the free for the free, the slave for the slave, and the female for the female. But if the killer is forgiven by the brother (or the relatives) of the killed (against blood money), then it should be sought in a good manner, and paid to him respectfully. This is an alleviation and a mercy from your Lord. So after this, whoever transgresses the limits (i.e. kills the killer after taking the blood money), he shall have a painful torment.',\n",
       " 'en-pickthall': 'O ye who believe! Retaliation is prescribed for you in the matter of the murdered; the freeman for the freeman, and the slave for the slave, and the female for the female. And for him who is forgiven somewhat by his (injured) brother, prosecution according to usage and payment unto him in kindness. This is an alleviation and a mercy from your Lord. He who transgresseth after this will have a painful doom.',\n",
       " 'en-qarai': 'O you who have faith! Retribution is prescribed for you regarding the slain: freeman for freeman, slave for slave, and female for female. But if one is granted any extenuation by his brother, let the follow up [for the blood-money] be honourable, and let the payment to him be with kindness. That is a remission from your Lord and a mercy; and should anyone transgress after that, there shall be a painful punishment for him.',\n",
       " 'en-qaribullah': 'Believers, retaliation is decreed for you concerning the killed. A free (man) for a free (man), a slave for a slave, and a female for a female. He who is pardoned by his brother, let the ensuing be with kindness, and let the payment be with generosity. This is an alleviation from your Lord and mercy. He who transgresses thereafter shall have a painful punishment.',\n",
       " 'en-sahih': 'O you who have believed, prescribed for you is legal retribution for those murdered - the free for the free, the slave for the slave, and the female for the female. But whoever overlooks from his brother anything, then there should be a suitable follow-up and payment to him with good conduct. This is an alleviation from your Lord and a mercy. But whoever transgresses after that will have a painful punishment.',\n",
       " 'en-sarwar': 'Believers, in case of murder, the death penalty is the sanctioned retaliation: a free man for a free man, a slave for a slave, and a female for a female. However, if the convicted person receives pardon from the aggrieved party, the prescribed rules of compensation must be followed accordingly. This is a merciful alteration from your Lord. Whoever transgresses against it will face a painful punishment.',\n",
       " 'en-shakir': 'O you who believe! retaliation is prescribed for you in the matter of the slain, the free for the free, and the slave for the slave, and the female for the female, but if any remission is made to any one by his (aggrieved) brother, then prosecution (for the bloodwit) should be made according to usage, and payment should be made to him in a good manner; this is an alleviation from your Lord and a mercy; so whoever exceeds the limit after this he shall have a painful chastisement.',\n",
       " 'en-transliterati': 'Y<u>a</u> ayyuh<u>a</u> alla<u>th</u>eena <u>a</u>manoo kutiba AAalaykumu alqi<u>sas</u>u fee alqatl<u>a</u> al<u>h</u>urru bi<b>a</b>l<u>h</u>urri wa<b>a</b>lAAabdu bi<b>a</b>lAAabdi wa<b>a</b>lonth<u>a</u> bi<b>a</b>lonth<u>a</u> faman AAufiya lahu min akheehi shayon fa<b>i</b>ttib<u>a</u>AAun bi<b>a</b>lmaAAroofi waad<u>a</u>on ilayhi bii<u>h</u>s<u>a</u>nin <u>tha</u>lika takhfeefun min rabbikum wara<u>h</u>matun famani iAAtad<u>a</u> baAAda <u>tha</u>lika falahu AAa<u>tha</u>bun aleem<b>un</b>',\n",
       " 'en-wahiduddi': 'Believers, retribution is prescribed for you in cases of murder: the free man for the free man, the slave for the slave, the female for the female. If the offender is granted some remission by the heir of the slain person, the agreed penalty should be equitably exacted and should be discharged in a handsome manner. This is an alleviation from your Lord and an act of grace. He who transgresses after this shall have a painful punishment.',\n",
       " 'en-yusufali': 'O ye who believe! the law of equality is prescribed to you in cases of murder: the free for the free, the slave for the slave, the woman for the woman. But if any remission is made by the brother of the slain, then grant any reasonable demand, and compensate him with handsome gratitude, this is a concession and a Mercy from your Lord. After this whoever exceeds the limits shall be in grave penalty.',\n",
       " 'ayah': 177,\n",
       " 'sorah': '2',\n",
       " 'sentence': 'يَٰٓأَيُّهَا ٱلَّذِينَ ءَامَنُوا۟ كُتِبَ عَلَيْكُمُ ٱلْقِصَاصُ فِى ٱلْقَتْلَى ٱلْحُرُّ بِٱلْحُرِّ وَٱلْعَبْدُ بِٱلْعَبْدِ وَٱلْأُنثَىٰ بِٱلْأُنثَىٰ فَمَنْ عُفِىَ لَهُۥ مِنْ أَخِيهِ شَىْءٌ فَٱتِّبَاعٌۢ بِٱلْمَعْرُوفِ وَأَدَآءٌ إِلَيْهِ بِإِحْسَٰنٍ ذَٰلِكَ تَخْفِيفٌ مِّن رَّبِّكُمْ وَرَحْمَةٌ فَمَنِ ٱعْتَدَىٰ بَعْدَ ذَٰلِكَ فَلَهُۥ عَذَابٌ أَلِيمٌ',\n",
       " 'en-tafsir-mokhtasar-html': 'O you who have faith in Allah and follow His Messenger, it is decreed for you that in cases where someone deliberately attacks and kills someone, the punishment for the murderer should be the same as their crime: the freeman killed for the freeman; the slave for the slave; and the female for the female. If the person killed had forgiven before his death, or his guardian has forgiven in return for the payment of blood money (a sum of money paid by the murderer in return for being pardoned), then the person who forgives should ask for the sum of money fairly, and not follow that up with insult or injury, and the murderer should pay the sum of money in a good way, without hesitation or delay. In allowing this forgiveness and the payment of the blood money your Lord makes things easier for you, and this is a mercy for the Muslim nation. Whoever attacks the murderer after his pardon and the acceptance of the blood money will receive a painful punishment from Allah.',\n",
       " 'en-tafsir-mokhtasar-text': 'O you who have faith in Allah and follow His Messenger, it is decreed for you that in cases where someone deliberately attacks and kills someone, the punishment for the murderer should be the same as their crime: the freeman killed for the freeman; the slave for the slave; and the female for the female. If the person killed had forgiven before his death, or his guardian has forgiven in return for the payment of blood money (a sum of money paid by the murderer in return for being pardoned), then the person who forgives should ask for the sum of money fairly, and not follow that up with insult or injury, and the murderer should pay the sum of money in a good way, without hesitation or delay. In allowing this forgiveness and the payment of the blood money your Lord makes things easier for you, and this is a mercy for the Muslim nation. Whoever attacks the murderer after his pardon and the acceptance of the blood money will receive a painful punishment from Allah.',\n",
       " 'en-tafsir-maarif-html': '<p>From the brief introduction to the nature of righteousness appearing in verses before this, the text now enters into the description of related subsidiary injunctions. Under the first injunction in this connection, the verse prescribes the law of Qisas (even retaliation), that is, the killer will be killed, irrespective of the status of the parties involved. If the aggrieved party somewhat relents on its own and forgives the Qisas قصاص ، but does not forgive the offence totally, it will become necessary for the killer to pay diyah (دیۃ) or blood-money as fixed, in a fair manner, and promptly. The claimant too, should pursue the matter in a recognized manner causing no harassment to the defendant. This law of blood-money and pardon is a relief granted by Allah Almighty in His grace, otherwise, there would have been no choice but to face the punishment of death. If, after all that, anyone crosses the limit set by Allah, such as, the filing of a false or doubtful case of murder, or a post-pardon re-opening of a murder case, he will be severely punished. In the end, the verse points out that wise people should have no difficulty in seeing that the law of even retaliation does not take life, instead, it gives life, for such a deterrent law will make people fear the punishment of killing somebody and thus lives will be saved.</p><p>There is life in \\'Qisas\\' قصاص</p><p>Literally, the word, Qisas means likeness. In usage, it denotes \\'even retaliation\\' or to return like for like. In Islamic juristic terminology, Qisas means the equal retaliation of an aggression committed against the body of a person. This retaliation is allowed only with a condition that the principle of \"like for like\" is strictly observed. This has been explained more clearly later on in verse 194 of this very Sarah which says:</p><p>فَاعْتَدُوا عَلَيْهِ بِمِثْلِ مَا اعْتَدَىٰ عَلَيْكُمْ</p><p>So, agress against him in the like manner as he did against you.</p><p>And also in the concluding verses of Surah al-Nahl, the same rule has been covered:</p><p>وَإِنْ عَاقَبْتُمْ فَعَاقِبُوا بِمِثْلِ مَا عُوقِبْتُم بِهِ</p><p>And, if you retaliate, then retaliate just as you have been oppressed against. (16:126)</p><p>Therefore, as a term of the Shari\\'ah, the Qisas قصاص is a punishment for killing or wounding in which the principle of equality or likeness is taken into full consideration.</p><p>Rulings</p><p>1.\\tThe principle of even retaliation is applied exclusively in cases of culpable homicide when someone has been killed intentionally with a lethal weapon causing injury and blood-loss.</p><p>2.\\tIn a homicide of this nature, the killer is killed in even retaliation - free man for a free man, slave for a slave, and female for a female - and similarly, a man for a woman. The mention of \\'free man for a free man\\' and \\'female for a female\\' in this verse refers to a specific event in the background of which it was revealed.</p><p>On the authority of Ibn Abi Hatim ؓ 1, Ibn Kathir (رح) has reported that, just before the advent of Islam, war broke out between two tribes. Many men and women, free and slaves, belonging to both, were killed. Their case was still undecided when the Islamic period set in and the two tribes entered the fold of Islam. Now that they were Muslims, they started talking about retaliation for those killed on each side. One of the tribes which was more powerful insisted that they would not agree to anything less than that a free man for their slave and a man for their woman be killed from the other side.</p><p>It was to refute this barbaric demand on their part that this verse was revealed. By saying \\'free man for a free man, slave for a slave and female for a female\\' it is intended to negate their absurd demand that a free man for a slave and man for a woman should be killed in retaliation, even though he may not be the killer. The just law that Islam enforced was that the killer is the one who has to be killed in Qisas قصاص . If a woman is the killer why should an innocent man be killed in retaliation? Similarly, if the killer is a slave, there is no sense in retaliating against an innocent free man. This is an injustice which can never be tolerated in Islam.</p><p>This verse means nothing but what has been stated earlier, and we repeat, that the one who has killed will be the one to be killed in Qisas قصاص . It is not permissible to kill an innocent man or someone free for a killer, woman or slave. Let us hasten to clarify that the verse does not mean that Qisas قصاص will not be taken from a man who kills a woman or from a free man who kills a slave. In the very beginning of this verse the words الْقِصَاصُ فِي الْقَتْلَى: \"The Qisas قصاص has been enjoined upon you in the case of those murdered\" are a clear proof of this universality of application. There are other verses where this aspect has been stated more explicitly, for instance, in النَّفْسَ بِالنَّفْسِ (the person for the person).</p><p>3.\\tIf, in a case of intentional killing the murderer is given full pardon, for instance, should both of the two surviving sons of the deceased pardon and forego their right of retaliation, the killer is free of any claim against him. In case the pardon is not that full, for instance, as illustrated above, one of the two surviving sons does pardon the killer while the other does not, the result will be that the killer will stand released right there from the retaliatory punishment, but the one who has not pardoned the killer will be entitled to half of the blood-money (diyah). In Shari\\'ah, this diyah amounts to one hundred camels or one thousand dinars or ten thousand dirhams درھم or approximately nineteen pounds of silver according to current weights and measures.</p><p>4.\\tThe way an incomplete pardon makes payment of blood-money necessary, in the same manner, a mutual settlement between parties concerned on a certain amount makes retaliation inapplicable and payment of the agreed amount becomes necessary. This, however, is governed by some conditions which appear in books of fiqh فقہ .</p><p>5.\\tUnder the Islamic law, the inheritors of the person killed, whatever their number, will inherit and own the right of retaliation and blood-money in accordance with their share in the inheritance. If blood-money is taken, it will be distributed among the inheritors in accordance with their share in the inheritance. And should Qisas قصاص (even retaliation) become the choice, the right of Qisas قصاص will also be commonly shared by all. Since Qisas is indivisible, the pardon given by any one of the inheritors will hold good and the pardon will become inclusive of the right of retaliation held by other inheritors. However, they shall receive the blood-money amount according to their share.</p><p>6. It is true that the right of even retaliation is vested in the legal heirs of the persons killed but, in accordance with the consensus of the Muslim community, they do not have the right to settle the score all by themselves, in other words, they cannot kill the killer on their own, instead, they have to seek the help of a Muslim ruler or his deputy to realize their right. The reason is that Qisas قصاص is an intricate issue when it comes to details which are simply out of reach for an average person. Therefore, the legal heirs of the person killed, not knowing the particular circumstances when retaliation does, or does not become necessary, may commit some sort of excess under the heat of their anger. So, by a unanimous agreement of the scholars of the Muslim community, it is necessary that the right of retaliation be secured and made effective through the agency of an Islamic government. (Qurtubi)</p>',\n",
       " 'en-tafsir-maarif-text': 'From the brief introduction to the nature of righteousness appearing in verses before this, the text now enters into the description of related subsidiary injunctions. Under the first injunction in this connection, the verse prescribes the law of Qisas (even retaliation), that is, the killer will be killed, irrespective of the status of the parties involved. If the aggrieved party somewhat relents on its own and forgives the Qisas قصاص ، but does not forgive the offence totally, it will become necessary for the killer to pay diyah (دیۃ) or blood-money as fixed, in a fair manner, and promptly. The claimant too, should pursue the matter in a recognized manner causing no harassment to the defendant. This law of blood-money and pardon is a relief granted by Allah Almighty in His grace, otherwise, there would have been no choice but to face the punishment of death. If, after all that, anyone crosses the limit set by Allah, such as, the filing of a false or doubtful case of murder, or a post-pardon re-opening of a murder case, he will be severely punished. In the end, the verse points out that wise people should have no difficulty in seeing that the law of even retaliation does not take life, instead, it gives life, for such a deterrent law will make people fear the punishment of killing somebody and thus lives will be saved.There is life in \\'Qisas\\' قصاصLiterally, the word, Qisas means likeness. In usage, it denotes \\'even retaliation\\' or to return like for like. In Islamic juristic terminology, Qisas means the equal retaliation of an aggression committed against the body of a person. This retaliation is allowed only with a condition that the principle of \"like for like\" is strictly observed. This has been explained more clearly later on in verse 194 of this very Sarah which says:فَاعْتَدُوا عَلَيْهِ بِمِثْلِ مَا اعْتَدَىٰ عَلَيْكُمْSo, agress against him in the like manner as he did against you.And also in the concluding verses of Surah al-Nahl, the same rule has been covered:وَإِنْ عَاقَبْتُمْ فَعَاقِبُوا بِمِثْلِ مَا عُوقِبْتُم بِهِAnd, if you retaliate, then retaliate just as you have been oppressed against. (16:126)Therefore, as a term of the Shari\\'ah, the Qisas قصاص is a punishment for killing or wounding in which the principle of equality or likeness is taken into full consideration.Rulings1.\\tThe principle of even retaliation is applied exclusively in cases of culpable homicide when someone has been killed intentionally with a lethal weapon causing injury and blood-loss.2.\\tIn a homicide of this nature, the killer is killed in even retaliation - free man for a free man, slave for a slave, and female for a female - and similarly, a man for a woman. The mention of \\'free man for a free man\\' and \\'female for a female\\' in this verse refers to a specific event in the background of which it was revealed.On the authority of Ibn Abi Hatim ؓ 1, Ibn Kathir (رح) has reported that, just before the advent of Islam, war broke out between two tribes. Many men and women, free and slaves, belonging to both, were killed. Their case was still undecided when the Islamic period set in and the two tribes entered the fold of Islam. Now that they were Muslims, they started talking about retaliation for those killed on each side. One of the tribes which was more powerful insisted that they would not agree to anything less than that a free man for their slave and a man for their woman be killed from the other side.It was to refute this barbaric demand on their part that this verse was revealed. By saying \\'free man for a free man, slave for a slave and female for a female\\' it is intended to negate their absurd demand that a free man for a slave and man for a woman should be killed in retaliation, even though he may not be the killer. The just law that Islam enforced was that the killer is the one who has to be killed in Qisas قصاص . If a woman is the killer why should an innocent man be killed in retaliation? Similarly, if the killer is a slave, there is no sense in retaliating against an innocent free man. This is an injustice which can never be tolerated in Islam.This verse means nothing but what has been stated earlier, and we repeat, that the one who has killed will be the one to be killed in Qisas قصاص . It is not permissible to kill an innocent man or someone free for a killer, woman or slave. Let us hasten to clarify that the verse does not mean that Qisas قصاص will not be taken from a man who kills a woman or from a free man who kills a slave. In the very beginning of this verse the words الْقِصَاصُ فِي الْقَتْلَى: \"The Qisas قصاص has been enjoined upon you in the case of those murdered\" are a clear proof of this universality of application. There are other verses where this aspect has been stated more explicitly, for instance, in النَّفْسَ بِالنَّفْسِ (the person for the person).3.\\tIf, in a case of intentional killing the murderer is given full pardon, for instance, should both of the two surviving sons of the deceased pardon and forego their right of retaliation, the killer is free of any claim against him. In case the pardon is not that full, for instance, as illustrated above, one of the two surviving sons does pardon the killer while the other does not, the result will be that the killer will stand released right there from the retaliatory punishment, but the one who has not pardoned the killer will be entitled to half of the blood-money (diyah). In Shari\\'ah, this diyah amounts to one hundred camels or one thousand dinars or ten thousand dirhams درھم or approximately nineteen pounds of silver according to current weights and measures.4.\\tThe way an incomplete pardon makes payment of blood-money necessary, in the same manner, a mutual settlement between parties concerned on a certain amount makes retaliation inapplicable and payment of the agreed amount becomes necessary. This, however, is governed by some conditions which appear in books of fiqh فقہ .5.\\tUnder the Islamic law, the inheritors of the person killed, whatever their number, will inherit and own the right of retaliation and blood-money in accordance with their share in the inheritance. If blood-money is taken, it will be distributed among the inheritors in accordance with their share in the inheritance. And should Qisas قصاص (even retaliation) become the choice, the right of Qisas قصاص will also be commonly shared by all. Since Qisas is indivisible, the pardon given by any one of the inheritors will hold good and the pardon will become inclusive of the right of retaliation held by other inheritors. However, they shall receive the blood-money amount according to their share.6. It is true that the right of even retaliation is vested in the legal heirs of the persons killed but, in accordance with the consensus of the Muslim community, they do not have the right to settle the score all by themselves, in other words, they cannot kill the killer on their own, instead, they have to seek the help of a Muslim ruler or his deputy to realize their right. The reason is that Qisas قصاص is an intricate issue when it comes to details which are simply out of reach for an average person. Therefore, the legal heirs of the person killed, not knowing the particular circumstances when retaliation does, or does not become necessary, may commit some sort of excess under the heat of their anger. So, by a unanimous agreement of the scholars of the Muslim community, it is necessary that the right of retaliation be secured and made effective through the agency of an Islamic government. (Qurtubi)',\n",
       " 'en-tafsir-ibn-kathir-html': '<h2 class=\"title\">The Command and the Wisdom behind the Law of Equality</h2><p>Allah states: O believers! The Law of equality has been ordained on you (for cases of murder), the free for the free, the slave for the slave and the female for the female. Therefore, do not transgress the set limits, as others before you transgressed them, and thus changed what Allah has ordained for them. The reason behind this statement is that (the Jewish tribe of) Banu An-Nadir invaded Qurayzah (another Jewish tribe) during the time of Jahiliyyah (before Islam) and defeated them. Hence, (they made it a law that) when a person from Nadir kills a person from Quraizah, he is not killed in retaliation, but only pays a hundred Wasq of dates. However, when a person from Quraizah kills a Nadir man, he would be killed for him. If Nadir wanted (to forfeit the execution of the murderer and instead require him) to pay a ransom, the Quraizah man pays two hundred Wasq of dates double the amount Nadir pays in Diyah (blood money). So Allah commanded that justice be observed regarding the penal code, and that the path of the misguided and mischievous persons be avoided, who in disbelief and transgression, defy and alter what Allah has commanded them. Allah said: </p><div class=\"text_uthmani arabic\">كُتِبَ عَلَيْكُمُ الْقِصَاصُ فِي الْقَتْلَى الْحُرُّ بِالْحُرِّ وَالْعَبْدُ بِالْعَبْدِ وَالاٍّنثَى بِالاٍّنْثَى</div><p>(Al-Qisas (the Law of equality in punishment) is prescribed for you in case of murder: the free for the free, the slave for the slave, and the female for the female.) </p><p>Allah\\'s statement: </p><div class=\"text_uthmani arabic\">الْحُرُّ بِالْحُرِّ وَالْعَبْدُ بِالْعَبْدِ وَالاٍّنثَى بِالاٍّنْثَى</div><p>(the free for the free, the slave for the slave, and the female for the female.) was abrogated by the statement life for life (5:45). However, the majority of scholars agree that the Muslim is not killed for a disbeliever whom he kills. Al- Bukhari reported that `Ali narrated that Allah\\'s Messenger said: </p><div class=\"text_uthmani arabic\">«وَلَا يُقْتَلُ مُسْلِمٌ بِكَافِر»</div><p>(The Muslim is not killed for the disbeliever (whom he kills).) </p><p>No opinion that opposes this ruling could stand correct, nor is there an authentic Hadith to contradict it. However, Abu Hanifah thought that the Muslim could be killed for a disbeliever, following the general meaning of the Ayah (5:45) in Surat Al-Ma\\'idah (chapter 5 in the Qur\\'an). </p><p>The Four Imams (Abu Hanifah, Malik, Shafi`i and Ahmad) and the majority of scholars stated that the group is killed for one person whom they murder. `Umar said, about a boy who was killed by seven men, \"If all the residents of San`a\\' (capital of Yemen today) collaborated on killing him, I would kill them all.\" No opposing opinion was known by the Companions during that time which constitutes a near Ijma` (consensus). There is an opinion attributed to Imam Ahmad that a group of people is not killed for one person whom they kill, and that only one person is killed for one person. Ibn Al-Mundhir also attributed this opinion to Mu`adh, Ibn Az-Zubayr, `Abdul-Malik bin Marwan, Az-Zuhri, Ibn Sirin and Habib bin Abu Thabit. Allah\\'s statement: </p><div class=\"text_uthmani arabic\">فَمَنْ عُفِىَ لَهُ مِنْ أَخِيهِ شَىْءٌ فَاتِّبَاعٌ بِالْمَعْرُوفِ وَأَدَآءٌ إِلَيْهِ بِإِحْسَـنٍ</div><p>(But if the killer is forgiven by the brother (or the relatives) of the killed (against blood money), then it should be sought in a good manner, and paid to him respectfully.) refers to accepting blood money (by the relatives of the victim in return for pardoning the killer) in cases of intentional murder. This opinion is attributed to Abu Al-`Aliyah, Abu Sha`tha\\', Mujahid, Sa`id bin Jubayr, `Ata\\' Al-Hasan, Qatadah and Muqatil bin Hayyan. Ad-Dahhak said that Ibn `Abbas said: </p><div class=\"text_uthmani arabic\">فَمَنْ عُفِىَ لَهُ مِنْ أَخِيهِ شَىْءٌ</div><p>(But if the killer is forgiven by the brother (or the relatives) of the killed (against blood money)) means the killer is pardoned by his brother (i.e., the relative of the victim) and accepting the Diyah after capital punishment becomes due (against the killer), this is the `Afw (pardon mentioned in the Ayah).\" Allah\\'s statement: </p><div class=\"text_uthmani arabic\">فَاتِّبَاعٌ بِالْمَعْرُوفِ</div><p>(...then it should be sought in a good manner,) means, when the relative agrees to take the blood money, he should collect his rightful dues with kindness: </p><div class=\"text_uthmani arabic\">وَأَدَآءٌ إِلَيْهِ بِإِحْسَـنٍ</div><p>( and paid to him respectfully.) means, the killer should accept the terms of settlement without causing further harm or resisting the payment. </p><p>Allah\\'s statement: </p><div class=\"text_uthmani arabic\">ذَلِكَ تَخْفِيفٌ مِّن رَّبِّكُمْ وَرَحْمَةٌ</div><p>(This is an alleviation and a mercy from your Lord.) means the legislation that allows you to accept the blood money for intentional murder is an alleviation and a mercy from your Lord. It lightens what was required from those who were before you, either applying capital punishment or forgiving. </p><p>Sa`id bin Mansur reported that Ibn `Abbas said, \"The Children of Israel were required to apply the Law of equality in murder cases and were not allowed to offer pardons (in return for blood money). Allah said to this Ummah (the Muslim nation): </p><div class=\"text_uthmani arabic\">كُتِبَ عَلَيْكُمُ الْقِصَاصُ فِي الْقَتْلَى الْحُرُّ بِالْحُرِّ وَالْعَبْدُ بِالْعَبْدِ وَالاٍّنثَى بِالاٍّنْثَى فَمَنْ عُفِىَ لَهُ مِنْ أَخِيهِ شَىْءٌ</div><p>(The Law of equality in punishment is prescribed for you in case of murder: the free for the free, the servant for the servant, and the female for the female. But if the killer is forgiven by the brother (or the relatives) of the killed (against blood money),) </p><p>Hence, `pardoning\\' or `forgiving\\' means accepting blood money in intentional murder cases.\" Ibn Hibban also recorded this in his Sahih. Qatadah said: </p><div class=\"text_uthmani arabic\">ذَلِكَ تَخْفِيفٌ مِّن رَّبِّكُمْ</div><p>(This is an alleviation from your Lord) </p><p>Allah had mercy on this Ummah by giving them the Diyah which was not allowed for any nation before it. The People of the Torah (Jews) were allowed to either apply the penal code (for murder, i.e., execution) or to pardon the killer, but they were not allowed to take blood money. The People of the Injil (the Gospel - the Christians) were required to pardon (the killer, but no Diyah was legislated). This Ummah (Muslims) is allowed to apply the penal code (execution) or to pardon and accept the blood money.\" Similar was reported from Sa`id bin Jubayr, Muqatil bin Hayyan and Ar-Rabi` bin Anas. </p><p>Allah\\'s statement: </p><div class=\"text_uthmani arabic\">فَمَنِ اعْتَدَى بَعْدَ ذَلِكَ فَلَهُ عَذَابٌ أَلِيمٌ</div><p>(So after this whoever transgresses the limits, he shall have a painful torment.) means, those who kill in retaliation after taking the Diyah or accepting it, they will suffer a painful and severe torment from Allah. The same was reported from Ibn `Abbas, Mujahid, `Ata\\' `Ikrimah, Al-Hasan, Qatadah, Ar-Rabi` bin Anas, As-Suddi and Muqatil bin Hayyan. </p><h2 class=\"title\">The Benefits and Wisdom of the Law of Equality</h2><p>Allah\\'s statement: </p><div class=\"text_uthmani arabic\">وَلَكُمْ فِي الْقِصَاصِ حَيَوةٌ</div><p>(And there is life for you in Al-Qisas) legislating the Law of equality, i.e., killing the murderer, carries great benefits for you. This way, the sanctity of life will be preserved because the killer will refrain from killing, as he will be certain that if he kills, he would be killed. Hence life will be preserved. In previous Books, there is a statement that killing stops further killing! This meaning came in much clearer and eloquent terms in the Qur\\'an: </p><div class=\"text_uthmani arabic\">وَلَكُمْ فِي الْقِصَاصِ حَيَوةٌ</div><p>(And there is (a saving of) life for you in Al-Qisas (the Law of equality in punishment).) </p><p>Abu Al-`Aliyah said, \"Allah made the Law of equality a `life\\'. Hence, how many a man who thought about killing, but this Law prevented him from killing for fear that he will be killed in turn.\" Similar statements were reported from Mujahid, Sa`id bin Jubayr, Abu Malik, Al-Hasan, Qatadah, Ar-Rabi` bin Anas and Muqatil bin Hayyan. Allah\\'s statement: </p><div class=\"text_uthmani arabic\">يأُولِي الأَلْبَـبِ لَعَلَّكُمْ تَتَّقُونَ</div><p>(O men of understanding, that you may acquire Taqwa.) means, `O you who have sound minds, comprehension and understanding! Perhaps by this you will be compelled to refrain from transgressing the prohibitions of Allah and what He considers sinful. \\' Taqwa (mentioned in the Ayah) is a word that means doing all acts of obedience and refraining from all prohibitions. </p><div class=\"text_uthmani arabic\">كُتِبَ عَلَيْكُمْ إِذَا حَضَرَ أَحَدَكُمُ الْمَوْتُ إِن تَرَكَ خَيْرًا الْوَصِيَّةُ لِلْوَلِدَيْنِ وَالاٌّقْرَبِينَ بِالْمَعْرُوفِ حَقًّا عَلَى الْمُتَّقِينَ </div>',\n",
       " 'en-tafsir-ibn-kathir-text': 'The Command and the Wisdom behind the Law of EqualityAllah states: O believers! The Law of equality has been ordained on you (for cases of murder), the free for the free, the slave for the slave and the female for the female. Therefore, do not transgress the set limits, as others before you transgressed them, and thus changed what Allah has ordained for them. The reason behind this statement is that (the Jewish tribe of) Banu An-Nadir invaded Qurayzah (another Jewish tribe) during the time of Jahiliyyah (before Islam) and defeated them. Hence, (they made it a law that) when a person from Nadir kills a person from Quraizah, he is not killed in retaliation, but only pays a hundred Wasq of dates. However, when a person from Quraizah kills a Nadir man, he would be killed for him. If Nadir wanted (to forfeit the execution of the murderer and instead require him) to pay a ransom, the Quraizah man pays two hundred Wasq of dates double the amount Nadir pays in Diyah (blood money). So Allah commanded that justice be observed regarding the penal code, and that the path of the misguided and mischievous persons be avoided, who in disbelief and transgression, defy and alter what Allah has commanded them. Allah said: كُتِبَ عَلَيْكُمُ الْقِصَاصُ فِي الْقَتْلَى الْحُرُّ بِالْحُرِّ وَالْعَبْدُ بِالْعَبْدِ وَالاٍّنثَى بِالاٍّنْثَى(Al-Qisas (the Law of equality in punishment) is prescribed for you in case of murder: the free for the free, the slave for the slave, and the female for the female.) Allah\\'s statement: الْحُرُّ بِالْحُرِّ وَالْعَبْدُ بِالْعَبْدِ وَالاٍّنثَى بِالاٍّنْثَى(the free for the free, the slave for the slave, and the female for the female.) was abrogated by the statement life for life (5:45). However, the majority of scholars agree that the Muslim is not killed for a disbeliever whom he kills. Al- Bukhari reported that `Ali narrated that Allah\\'s Messenger said: «وَلَا يُقْتَلُ مُسْلِمٌ بِكَافِر»(The Muslim is not killed for the disbeliever (whom he kills).) No opinion that opposes this ruling could stand correct, nor is there an authentic Hadith to contradict it. However, Abu Hanifah thought that the Muslim could be killed for a disbeliever, following the general meaning of the Ayah (5:45) in Surat Al-Ma\\'idah (chapter 5 in the Qur\\'an). The Four Imams (Abu Hanifah, Malik, Shafi`i and Ahmad) and the majority of scholars stated that the group is killed for one person whom they murder. `Umar said, about a boy who was killed by seven men, \"If all the residents of San`a\\' (capital of Yemen today) collaborated on killing him, I would kill them all.\" No opposing opinion was known by the Companions during that time which constitutes a near Ijma` (consensus). There is an opinion attributed to Imam Ahmad that a group of people is not killed for one person whom they kill, and that only one person is killed for one person. Ibn Al-Mundhir also attributed this opinion to Mu`adh, Ibn Az-Zubayr, `Abdul-Malik bin Marwan, Az-Zuhri, Ibn Sirin and Habib bin Abu Thabit. Allah\\'s statement: فَمَنْ عُفِىَ لَهُ مِنْ أَخِيهِ شَىْءٌ فَاتِّبَاعٌ بِالْمَعْرُوفِ وَأَدَآءٌ إِلَيْهِ بِإِحْسَـنٍ(But if the killer is forgiven by the brother (or the relatives) of the killed (against blood money), then it should be sought in a good manner, and paid to him respectfully.) refers to accepting blood money (by the relatives of the victim in return for pardoning the killer) in cases of intentional murder. This opinion is attributed to Abu Al-`Aliyah, Abu Sha`tha\\', Mujahid, Sa`id bin Jubayr, `Ata\\' Al-Hasan, Qatadah and Muqatil bin Hayyan. Ad-Dahhak said that Ibn `Abbas said: فَمَنْ عُفِىَ لَهُ مِنْ أَخِيهِ شَىْءٌ(But if the killer is forgiven by the brother (or the relatives) of the killed (against blood money)) means the killer is pardoned by his brother (i.e., the relative of the victim) and accepting the Diyah after capital punishment becomes due (against the killer), this is the `Afw (pardon mentioned in the Ayah).\" Allah\\'s statement: فَاتِّبَاعٌ بِالْمَعْرُوفِ(...then it should be sought in a good manner,) means, when the relative agrees to take the blood money, he should collect his rightful dues with kindness: وَأَدَآءٌ إِلَيْهِ بِإِحْسَـنٍ( and paid to him respectfully.) means, the killer should accept the terms of settlement without causing further harm or resisting the payment. Allah\\'s statement: ذَلِكَ تَخْفِيفٌ مِّن رَّبِّكُمْ وَرَحْمَةٌ(This is an alleviation and a mercy from your Lord.) means the legislation that allows you to accept the blood money for intentional murder is an alleviation and a mercy from your Lord. It lightens what was required from those who were before you, either applying capital punishment or forgiving. Sa`id bin Mansur reported that Ibn `Abbas said, \"The Children of Israel were required to apply the Law of equality in murder cases and were not allowed to offer pardons (in return for blood money). Allah said to this Ummah (the Muslim nation): كُتِبَ عَلَيْكُمُ الْقِصَاصُ فِي الْقَتْلَى الْحُرُّ بِالْحُرِّ وَالْعَبْدُ بِالْعَبْدِ وَالاٍّنثَى بِالاٍّنْثَى فَمَنْ عُفِىَ لَهُ مِنْ أَخِيهِ شَىْءٌ(The Law of equality in punishment is prescribed for you in case of murder: the free for the free, the servant for the servant, and the female for the female. But if the killer is forgiven by the brother (or the relatives) of the killed (against blood money),) Hence, `pardoning\\' or `forgiving\\' means accepting blood money in intentional murder cases.\" Ibn Hibban also recorded this in his Sahih. Qatadah said: ذَلِكَ تَخْفِيفٌ مِّن رَّبِّكُمْ(This is an alleviation from your Lord) Allah had mercy on this Ummah by giving them the Diyah which was not allowed for any nation before it. The People of the Torah (Jews) were allowed to either apply the penal code (for murder, i.e., execution) or to pardon the killer, but they were not allowed to take blood money. The People of the Injil (the Gospel - the Christians) were required to pardon (the killer, but no Diyah was legislated). This Ummah (Muslims) is allowed to apply the penal code (execution) or to pardon and accept the blood money.\" Similar was reported from Sa`id bin Jubayr, Muqatil bin Hayyan and Ar-Rabi` bin Anas. Allah\\'s statement: فَمَنِ اعْتَدَى بَعْدَ ذَلِكَ فَلَهُ عَذَابٌ أَلِيمٌ(So after this whoever transgresses the limits, he shall have a painful torment.) means, those who kill in retaliation after taking the Diyah or accepting it, they will suffer a painful and severe torment from Allah. The same was reported from Ibn `Abbas, Mujahid, `Ata\\' `Ikrimah, Al-Hasan, Qatadah, Ar-Rabi` bin Anas, As-Suddi and Muqatil bin Hayyan. The Benefits and Wisdom of the Law of EqualityAllah\\'s statement: وَلَكُمْ فِي الْقِصَاصِ حَيَوةٌ(And there is life for you in Al-Qisas) legislating the Law of equality, i.e., killing the murderer, carries great benefits for you. This way, the sanctity of life will be preserved because the killer will refrain from killing, as he will be certain that if he kills, he would be killed. Hence life will be preserved. In previous Books, there is a statement that killing stops further killing! This meaning came in much clearer and eloquent terms in the Qur\\'an: وَلَكُمْ فِي الْقِصَاصِ حَيَوةٌ(And there is (a saving of) life for you in Al-Qisas (the Law of equality in punishment).) Abu Al-`Aliyah said, \"Allah made the Law of equality a `life\\'. Hence, how many a man who thought about killing, but this Law prevented him from killing for fear that he will be killed in turn.\" Similar statements were reported from Mujahid, Sa`id bin Jubayr, Abu Malik, Al-Hasan, Qatadah, Ar-Rabi` bin Anas and Muqatil bin Hayyan. Allah\\'s statement: يأُولِي الأَلْبَـبِ لَعَلَّكُمْ تَتَّقُونَ(O men of understanding, that you may acquire Taqwa.) means, `O you who have sound minds, comprehension and understanding! Perhaps by this you will be compelled to refrain from transgressing the prohibitions of Allah and what He considers sinful. \\' Taqwa (mentioned in the Ayah) is a word that means doing all acts of obedience and refraining from all prohibitions. كُتِبَ عَلَيْكُمْ إِذَا حَضَرَ أَحَدَكُمُ الْمَوْتُ إِن تَرَكَ خَيْرًا الْوَصِيَّةُ لِلْوَلِدَيْنِ وَالاٌّقْرَبِينَ بِالْمَعْرُوفِ حَقًّا عَلَى الْمُتَّقِينَ ',\n",
       " 'ayah_id': '2:177'}"
      ]
     },
     "execution_count": 6,
     "metadata": {},
     "output_type": "execute_result"
    }
   ],
   "source": [
    "dataset[\"train\"][183]"
   ]
  },
  {
   "cell_type": "code",
   "execution_count": 7,
   "metadata": {},
   "outputs": [],
   "source": [
    "# split the dataset into train and validation\n",
    "dataset = dataset['train'].train_test_split(test_size=TEST_SIZE)"
   ]
  },
  {
   "cell_type": "code",
   "execution_count": 8,
   "metadata": {},
   "outputs": [
    {
     "data": {
      "text/plain": [
       "{'en-ahmedali': 'Do they have the stores of the mercy of your Lord, the mighty and munificent?',\n",
       " 'en-ahmedraza': 'Or do they hold the treasures of the mercy of your Lord, the Almighty, the Great Bestower?',\n",
       " 'en-arberry': \"Or have they the treasuries of thy Lord's mercy, the All-mighty, the All-giving?\",\n",
       " 'en-asad': 'Or do they [think that they] own the treasures of thy Sustainer’s grace - [the grace] of the Almighty, the Giver of Gifts?',\n",
       " 'en-daryabadi': 'Or, are with them the treasures of the mercy of thy Lord, the Bestower?',\n",
       " 'en-hilali': 'Or have they the treasures of the Mercy of your Lord, the All-Mighty, the Real Bestower?',\n",
       " 'en-itani': 'Or do they possess the treasuries of the mercy of your Lord—the Majestic, the Giver?',\n",
       " 'en-maududi': 'Do they possess the treasures of your Lord, the Most Mighty, the Great Bestower?',\n",
       " 'en-mubarakpuri': 'Or have they the treasures of the mercy of your Lord, the Almighty, the Real Bestower',\n",
       " 'en-pickthall': 'Or are theirs the treasures of the mercy of thy Lord, the Mighty, the Bestower?',\n",
       " 'en-qarai': 'Do they possess the treasuries of the mercy of your Lord, the All-mighty, the All-munificent?',\n",
       " 'en-qaribullah': 'Or, have they the treasuries of the Mercy of your Lord, the Almighty, the Giving?',\n",
       " 'en-sahih': 'Or do they have the depositories of the mercy of your Lord, the Exalted in Might, the Bestower?',\n",
       " 'en-sarwar': \"Do they possess the treasures of the mercy of your, (Muhammad's), Lord, the Majestic and Munificent God?\",\n",
       " 'en-shakir': 'Or is it that they have the treasures of the mercy of your Lord, the Mighty, the great Giver?',\n",
       " 'en-transliterati': 'Am AAindahum khaz<u>a</u>inu ra<u>h</u>mati rabbika alAAazeezi alwahh<u>a</u>b<b>i</b>',\n",
       " 'en-wahiduddi': 'Do they possess the treasures of the mercy of your Lord, the Mighty, the Great Bestower?',\n",
       " 'en-yusufali': 'Or have they the treasures of the mercy of thy Lord,- the Exalted in Power, the Grantor of Bounties without measure?',\n",
       " 'ayah': 8,\n",
       " 'sorah': '38',\n",
       " 'sentence': 'أَمْ عِندَهُمْ خَزَآئِنُ رَحْمَةِ رَبِّكَ ٱلْعَزِيزِ ٱلْوَهَّابِ',\n",
       " 'en-tafsir-mokhtasar-html': 'Or do these denying idolaters have treasures of the grace of your Lord, the Mighty whom nobody can overpower, who gives what He wants to whom He wants? And from His treasures is prophethood, so He gives it to whom He wishes. It is not for them that they should give it to whom they want and stop it from whom they want.',\n",
       " 'en-tafsir-mokhtasar-text': 'Or do these denying idolaters have treasures of the grace of your Lord, the Mighty whom nobody can overpower, who gives what He wants to whom He wants? And from His treasures is prophethood, so He gives it to whom He wishes. It is not for them that they should give it to whom they want and stop it from whom they want.',\n",
       " 'en-tafsir-maarif-html': '',\n",
       " 'en-tafsir-maarif-text': '',\n",
       " 'en-tafsir-ibn-kathir-html': '',\n",
       " 'en-tafsir-ibn-kathir-text': '',\n",
       " 'ayah_id': '38:8'}"
      ]
     },
     "execution_count": 8,
     "metadata": {},
     "output_type": "execute_result"
    }
   ],
   "source": [
    "dataset[\"test\"][1]"
   ]
  },
  {
   "cell_type": "code",
   "execution_count": 9,
   "metadata": {},
   "outputs": [
    {
     "data": {
      "text/plain": [
       "DatasetDict({\n",
       "    train: Dataset({\n",
       "        features: ['en-ahmedali', 'en-ahmedraza', 'en-arberry', 'en-asad', 'en-daryabadi', 'en-hilali', 'en-itani', 'en-maududi', 'en-mubarakpuri', 'en-pickthall', 'en-qarai', 'en-qaribullah', 'en-sahih', 'en-sarwar', 'en-shakir', 'en-transliterati', 'en-wahiduddi', 'en-yusufali', 'ayah', 'sorah', 'sentence', 'en-tafsir-mokhtasar-html', 'en-tafsir-mokhtasar-text', 'en-tafsir-maarif-html', 'en-tafsir-maarif-text', 'en-tafsir-ibn-kathir-html', 'en-tafsir-ibn-kathir-text', 'ayah_id'],\n",
       "        num_rows: 5611\n",
       "    })\n",
       "    test: Dataset({\n",
       "        features: ['en-ahmedali', 'en-ahmedraza', 'en-arberry', 'en-asad', 'en-daryabadi', 'en-hilali', 'en-itani', 'en-maududi', 'en-mubarakpuri', 'en-pickthall', 'en-qarai', 'en-qaribullah', 'en-sahih', 'en-sarwar', 'en-shakir', 'en-transliterati', 'en-wahiduddi', 'en-yusufali', 'ayah', 'sorah', 'sentence', 'en-tafsir-mokhtasar-html', 'en-tafsir-mokhtasar-text', 'en-tafsir-maarif-html', 'en-tafsir-maarif-text', 'en-tafsir-ibn-kathir-html', 'en-tafsir-ibn-kathir-text', 'ayah_id'],\n",
       "        num_rows: 624\n",
       "    })\n",
       "})"
      ]
     },
     "execution_count": 9,
     "metadata": {},
     "output_type": "execute_result"
    }
   ],
   "source": [
    "dataset"
   ]
  },
  {
   "attachments": {},
   "cell_type": "markdown",
   "metadata": {},
   "source": [
    "# Model"
   ]
  },
  {
   "cell_type": "code",
   "execution_count": 10,
   "metadata": {},
   "outputs": [],
   "source": [
    "model = AutoModel.from_pretrained(MODEL_NAME)\n",
    "tokenizer = AutoTokenizer.from_pretrained(MODEL_NAME)"
   ]
  },
  {
   "attachments": {},
   "cell_type": "markdown",
   "metadata": {},
   "source": [
    "# DataClass"
   ]
  },
  {
   "cell_type": "code",
   "execution_count": 11,
   "metadata": {},
   "outputs": [],
   "source": [
    "class TripletRandomSampler(torch.utils.data.Dataset):\n",
    "    def __init__(self, dataset, \n",
    "                 contrastive_columns=CONTRASTIVE_COLUMNS,\n",
    "                 tokenizer=tokenizer,\n",
    "                 seed=42):\n",
    "        self.dataset = dataset\n",
    "        self.contrastive_columns = contrastive_columns\n",
    "        self.tokenizer = tokenizer\n",
    "        self.tokenized_dataset = self.dataset.map(self.tokenize_data, batched=True, batch_size=BATCH_SIZE)\n",
    "        self.seed = seed\n",
    "        random.seed(seed)\n",
    "        \n",
    "    def tokenize_data(self, row):\n",
    "        for column in CONTRASTIVE_COLUMNS:\n",
    "            tokenized_row = self.tokenizer(row[column], \n",
    "                                           truncation=True, \n",
    "                                           max_length=MAX_LENGTH, \n",
    "                                           padding=\"max_length\")\n",
    "            row[column+\"_input_ids\"] = tokenized_row[\"input_ids\"]\n",
    "            row[column+\"_attention_mask\"] = tokenized_row[\"attention_mask\"]\n",
    "        return row\n",
    "    \n",
    "    def __len__(self):\n",
    "        return len(self.tokenized_dataset)\n",
    "\n",
    "    def __getitem__(self, idx):\n",
    "        negative_idx = random.randint(0, len(self.tokenized_dataset) - 2)\n",
    "        if negative_idx >= idx:\n",
    "            negative_idx += 1\n",
    "        \n",
    "        anchor_col = random.choice(list(self.contrastive_columns))\n",
    "        positive_negative_col = random.choice(list(self.contrastive_columns.difference({anchor_col})))\n",
    "\n",
    "        return {\n",
    "            \"anchor_input_ids\": torch.tensor(self.tokenized_dataset[idx][anchor_col+\"_input_ids\"]),\n",
    "            \"anchor_attention_mask\": torch.tensor(self.tokenized_dataset[idx][anchor_col+\"_attention_mask\"]),\n",
    "            \"positive_input_ids\": torch.tensor(self.tokenized_dataset[idx][positive_negative_col+\"_input_ids\"]),\n",
    "            \"positive_attention_mask\": torch.tensor(self.tokenized_dataset[idx][positive_negative_col+\"_attention_mask\"]),\n",
    "            \"negative_input_ids\": torch.tensor(self.tokenized_dataset[negative_idx][positive_negative_col+\"_input_ids\"]),\n",
    "            \"negative_attention_mask\": torch.tensor(self.tokenized_dataset[negative_idx][positive_negative_col+\"_attention_mask\"]),\n",
    "        }\n"
   ]
  },
  {
   "cell_type": "code",
   "execution_count": 12,
   "metadata": {},
   "outputs": [
    {
     "data": {
      "application/vnd.jupyter.widget-view+json": {
       "model_id": "f814b4b62f6b4f1b82d9621df611b035",
       "version_major": 2,
       "version_minor": 0
      },
      "text/plain": [
       "Map:   0%|          | 0/5611 [00:00<?, ? examples/s]"
      ]
     },
     "metadata": {},
     "output_type": "display_data"
    },
    {
     "data": {
      "application/vnd.jupyter.widget-view+json": {
       "model_id": "7ac22fa70f7e45c790ea5813b3969871",
       "version_major": 2,
       "version_minor": 0
      },
      "text/plain": [
       "Map:   0%|          | 0/624 [00:00<?, ? examples/s]"
      ]
     },
     "metadata": {},
     "output_type": "display_data"
    }
   ],
   "source": [
    "train_data = TripletRandomSampler(dataset[\"train\"])\n",
    "test_data = TripletRandomSampler(dataset[\"test\"])\n",
    "\n",
    "train_data_loader = torch.utils.data.DataLoader(train_data, batch_size=BATCH_SIZE, shuffle=True)\n",
    "test_data_loader = torch.utils.data.DataLoader(test_data, batch_size=BATCH_SIZE, shuffle=True)"
   ]
  },
  {
   "attachments": {},
   "cell_type": "markdown",
   "metadata": {},
   "source": [
    "# Finetuning"
   ]
  },
  {
   "cell_type": "code",
   "execution_count": 13,
   "metadata": {},
   "outputs": [],
   "source": [
    "model.to(DEVICE);"
   ]
  },
  {
   "cell_type": "code",
   "execution_count": 14,
   "metadata": {},
   "outputs": [],
   "source": [
    "optimizer = torch.optim.Adam(model.parameters(), lr=LEARNING_RATE)\n",
    "optimizer.zero_grad()\n",
    "# loss = torch.nn.TripletMarginLoss(margin=0.2, p=2)\n",
    "# loss = torch.nn.CosineEmbeddingLoss()\n",
    "def dist_function(*args):\n",
    "    return 1 - torch.nn.CosineSimilarity()(*args)\n",
    "loss_fn = torch.nn.TripletMarginWithDistanceLoss(margin=0.1, distance_function=dist_function)"
   ]
  },
  {
   "attachments": {},
   "cell_type": "markdown",
   "metadata": {},
   "source": [
    "test"
   ]
  },
  {
   "cell_type": "code",
   "execution_count": 15,
   "metadata": {},
   "outputs": [],
   "source": [
    "# emb_anchor = model(train_data[0][\"anchor_input_ids\"].to(DEVICE).unsqueeze(0),\n",
    "#                                         attention_mask=train_data[0][\"anchor_attention_mask\"].to(DEVICE).unsqueeze(0)).last_hidden_state[:,0,:]\n",
    "# emb_positive = model(train_data[0][\"positive_input_ids\"].to(DEVICE).unsqueeze(0),\n",
    "#                                         attention_mask=train_data[0][\"positive_attention_mask\"].to(DEVICE).unsqueeze(0)).last_hidden_state[:,0,:]\n",
    "# emb_negative = model(train_data[0][\"negative_input_ids\"].to(DEVICE).unsqueeze(0),\n",
    "#                                         attention_mask=train_data[0][\"negative_attention_mask\"].to(DEVICE).unsqueeze(0)).last_hidden_state[:,0,:]\n",
    "# loss_fn(emb_anchor, emb_positive, emb_negative)"
   ]
  },
  {
   "cell_type": "code",
   "execution_count": 17,
   "metadata": {},
   "outputs": [
    {
     "data": {
      "application/vnd.jupyter.widget-view+json": {
       "model_id": "44ed4949a4514f5a9fc3b08c9a803921",
       "version_major": 2,
       "version_minor": 0
      },
      "text/plain": [
       "Testing epoch:   0%|          | 0/156 [00:00<?, ?it/s]"
      ]
     },
     "metadata": {},
     "output_type": "display_data"
    },
    {
     "name": "stdout",
     "output_type": "stream",
     "text": [
      "Test loss: 0.01852982398122549, test accuracy: 0.5721153846153846\n",
      "#### Epoch : 0\n"
     ]
    },
    {
     "data": {
      "application/vnd.jupyter.widget-view+json": {
       "model_id": "117d32810b544fffb87ee070b2a546c3",
       "version_major": 2,
       "version_minor": 0
      },
      "text/plain": [
       "Training epoch:   0%|          | 0/1403 [00:00<?, ?it/s]"
      ]
     },
     "metadata": {},
     "output_type": "display_data"
    }
   ],
   "source": [
    "def average_pool(last_hidden_states: torch.Tensor,\n",
    "                 attention_mask: torch.Tensor) -> torch.Tensor:\n",
    "    last_hidden = last_hidden_states.masked_fill(~attention_mask[..., None].bool(), 0.0)\n",
    "    return last_hidden.sum(dim=1) / attention_mask.sum(dim=1)[..., None]\n",
    "\n",
    "def forward_backward(model, batch, loss_fn=loss_fn, testing=False):\n",
    "    anchor_input, anchor_mask = batch[\"anchor_input_ids\"].to(DEVICE), batch[\"anchor_attention_mask\"].to(DEVICE)\n",
    "    positive_input, positive_mask = batch[\"positive_input_ids\"].to(DEVICE), batch[\"positive_attention_mask\"].to(DEVICE)\n",
    "    negative_input, negative_mask = batch[\"negative_input_ids\"].to(DEVICE), batch[\"negative_attention_mask\"].to(DEVICE)\n",
    "\n",
    "    anchor_embeddings = average_pool(model(anchor_input, attention_mask=anchor_mask).last_hidden_state, anchor_mask)\n",
    "    positive_embeddings = average_pool(model(positive_input, attention_mask=positive_mask).last_hidden_state, positive_mask)\n",
    "    negative_embeddings = average_pool(model(negative_input, attention_mask=negative_mask).last_hidden_state, negative_mask)\n",
    "\n",
    "    batch_loss = loss_fn(anchor_embeddings, positive_embeddings, negative_embeddings)\n",
    "    batch_loss_item = batch_loss.item()\n",
    "    \n",
    "    if not testing:\n",
    "        batch_loss.backward()\n",
    "    \n",
    "    accuracy = dist_function(anchor_embeddings, positive_embeddings) < dist_function(anchor_embeddings, negative_embeddings)\n",
    "    accuracy = accuracy.sum().item() / accuracy.shape[0]\n",
    "\n",
    "    return batch_loss_item / anchor_embeddings.shape[0], accuracy\n",
    "\n",
    "def train_epoch(model, train_data_loader, optimizer, loss_fn=loss_fn):\n",
    "    model.train()\n",
    "    epoch_loss = 0\n",
    "    epoch_accuracy = 0\n",
    "    in_batch_counter = 0\n",
    "    for batch in tqdm(train_data_loader, desc=\"Training epoch\"):\n",
    "        in_batch_counter += 1\n",
    "\n",
    "        batch_loss, accuracy = forward_backward(model, batch, loss_fn)\n",
    "        epoch_loss += batch_loss\n",
    "        epoch_accuracy += accuracy\n",
    "\n",
    "        if in_batch_counter % BATCH_ACCUMULATION == 0:\n",
    "            optimizer.step()\n",
    "            optimizer.zero_grad()\n",
    "    return epoch_loss / len(train_data_loader), epoch_accuracy / len(train_data_loader)\n",
    "\n",
    "def test_epoch(model, test_data_loader, loss_fn=loss_fn):\n",
    "    model.eval()\n",
    "    epoch_loss = 0\n",
    "    epoch_accuracy = 0\n",
    "    with torch.no_grad():\n",
    "        for batch in tqdm(test_data_loader, desc=\"Testing epoch\"):\n",
    "            batch_loss, accuracy = forward_backward(model, batch, loss_fn, testing=True)\n",
    "            epoch_loss += batch_loss\n",
    "            epoch_accuracy += accuracy\n",
    "    return epoch_loss / len(test_data_loader), epoch_accuracy / len(test_data_loader)\n",
    "\n",
    "test_loss, test_accuracy = test_epoch(model, test_data_loader)\n",
    "print(f\"Test loss: {test_loss:.3f}, test accuracy: {test_accuracy:.3f}\")\n",
    "\n",
    "for epoch in range(EPOCHS):\n",
    "    print(f\"#### Epoch : {epoch}\")\n",
    "    train_loss, train_accuracy = train_epoch(model, train_data_loader, optimizer)\n",
    "    print(f\"Train loss: {train_loss:.3f}, train accuracy: {train_accuracy:.3f}\")\n",
    "    test_loss, test_accuracy = test_epoch(model, test_data_loader)\n",
    "    print(f\"Test loss: {test_loss:.3f}, test accuracy: {test_accuracy:.3f}\")"
   ]
  },
  {
   "cell_type": "code",
   "execution_count": null,
   "metadata": {},
   "outputs": [],
   "source": []
  }
 ],
 "metadata": {
  "kernelspec": {
   "display_name": "islamic_search-_RiiE--D-py3.9",
   "language": "python",
   "name": "python3"
  },
  "language_info": {
   "codemirror_mode": {
    "name": "ipython",
    "version": 3
   },
   "file_extension": ".py",
   "mimetype": "text/x-python",
   "name": "python",
   "nbconvert_exporter": "python",
   "pygments_lexer": "ipython3",
   "version": "3.9.13"
  },
  "orig_nbformat": 4
 },
 "nbformat": 4,
 "nbformat_minor": 2
}
